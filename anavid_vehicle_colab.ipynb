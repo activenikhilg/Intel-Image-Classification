{
 "cells": [
  {
   "cell_type": "code",
   "execution_count": null,
   "metadata": {
    "colab": {},
    "colab_type": "code",
    "id": "ndIJcmh1ph5K"
   },
   "outputs": [],
   "source": [
    "from google.colab import drive\n",
    "drive.mount('/content/drive')"
   ]
  },
  {
   "cell_type": "code",
   "execution_count": null,
   "metadata": {
    "colab": {},
    "colab_type": "code",
    "id": "9V7NH3GDpXw7"
   },
   "outputs": [],
   "source": [
    "! mkdir \"/content/data\"\n",
    "! cp \"/content/drive/My Drive/Colab Notebooks/data/anavid/anavid_classification.zip\" \"/content/data\""
   ]
  },
  {
   "cell_type": "code",
   "execution_count": null,
   "metadata": {
    "colab": {},
    "colab_type": "code",
    "id": "rnQJjVFlpY6k"
   },
   "outputs": [],
   "source": [
    "! unzip -d \"/content/data\" \"/content/data/anavid_classification.zip\""
   ]
  },
  {
   "cell_type": "code",
   "execution_count": null,
   "metadata": {
    "colab": {},
    "colab_type": "code",
    "id": "CCarf1Q7pZDO"
   },
   "outputs": [],
   "source": []
  },
  {
   "cell_type": "code",
   "execution_count": null,
   "metadata": {
    "colab": {
     "base_uri": "https://localhost:8080/",
     "height": 34
    },
    "colab_type": "code",
    "id": "v5-ygSj-rT30",
    "outputId": "41f399a6-12f5-4f8b-a767-abcfb5fc6ba3"
   },
   "outputs": [
    {
     "name": "stderr",
     "output_type": "stream",
     "text": [
      "Using TensorFlow backend.\n"
     ]
    }
   ],
   "source": [
    "from keras.preprocessing.image import ImageDataGenerator\n",
    "from keras.applications.vgg16 import VGG16\n",
    "from keras.models import Sequential, Model\n",
    "from keras.layers import Dense, Dropout, Flatten,MaxPool2D, BatchNormalization, Conv2D, InputLayer\n",
    "from keras.callbacks import ReduceLROnPlateau, EarlyStopping\n",
    "from keras.optimizers import Adam\n",
    "from keras.utils import Sequence\n",
    "from keras.utils import to_categorical\n",
    "\n",
    "# from albumentations import (Blur, MotionBlur, MedianBlur, GaussianBlur, GaussNoise, RandomGamma,\n",
    "#                             HorizontalFlip, ShiftScaleRotate, RandomBrightnessContrast, JpegCompression, \n",
    "#                             RandomShadow, ISONoise, Equalize, FancyPCA, CLAHE, OneOf, Compose)"
   ]
  },
  {
   "cell_type": "code",
   "execution_count": null,
   "metadata": {
    "colab": {},
    "colab_type": "code",
    "id": "ndkwG86grshs"
   },
   "outputs": [],
   "source": [
    "# def aug_image(image):\n",
    "#     p = 0.2\n",
    "#     aug = Compose([\n",
    "#                    OneOf([\n",
    "#                           Blur(p=p, blur_limit= (2,2)),\n",
    "#                           MotionBlur(blur_limit=3,p = p),\n",
    "#                           MedianBlur(blur_limit=3,p = p),\n",
    "#                           GaussianBlur(blur_limit=3,p = p),\n",
    "#                           GaussNoise(p = p),\n",
    "#                           RandomGamma(p = p)\n",
    "#                    ],p = p),\n",
    "#                    HorizontalFlip(p=p),\n",
    "#                    ShiftScaleRotate(shift_limit=0.06, scale_limit=0.2, rotate_limit=15, border_mode = 4, p=p),\n",
    "#                    RandomBrightnessContrast(p=p),\n",
    "#                    RandomShadow(p = p, num_shadows_lower=1, num_shadows_upper=3, shadow_dimension=4)\n",
    "#     ],p=p)\n",
    "#     image = aug(image = image)['image']\n",
    "#     return image\n",
    "# imagegen = ImageDataGenerator(preprocessing_function=aug_image,rescale=1./255)\n",
    "# imagegen_ = ImageDataGenerator(preprocessing_function=None,rescale=1./255)\n",
    "# train = imagegen.flow_from_directory(\"data/seg_train/seg_train\",target_size=(150,150),batch_size=128)\n",
    "# val = imagegen_.flow_from_directory(\"data/seg_test/seg_test\",target_size=(150,150),batch_size=128)"
   ]
  },
  {
   "cell_type": "code",
   "execution_count": null,
   "metadata": {
    "colab": {},
    "colab_type": "code",
    "id": "fwU0ekQwHDdC"
   },
   "outputs": [],
   "source": [
    "# model = VGG16(include_top=False, input_shape=(150,150, 3))\n",
    "# for layer in model.layers:\n",
    "# \tlayer.trainable = False\n",
    "\n",
    "# x = Flatten()(model.output)\n",
    "# x = BatchNormalization()(x)\n",
    "# x = Dense(4096, activation='relu')(x)\n",
    "# x = Dense(4096, activation='relu')(x)\n",
    "# x = Dropout(0.2)(x)\n",
    "# x = Dense(256, activation = 'relu')(x)\n",
    "# x = Dense(6, activation='softmax')(x)\n",
    "\n",
    "# model = Model(inputs=model.inputs, outputs=x)\n",
    "\n",
    "# model.get_layer('block5_conv1').trainable = True\n",
    "# model.get_layer('block5_conv2').trainable = True\n",
    "# model.get_layer('block5_conv3').trainable = True\n",
    "\n",
    "# model.summary()"
   ]
  },
  {
   "cell_type": "code",
   "execution_count": null,
   "metadata": {
    "colab": {
     "base_uri": "https://localhost:8080/",
     "height": 655
    },
    "colab_type": "code",
    "id": "2s6YH-M2pSKE",
    "outputId": "9a0474f1-239c-483f-e5eb-abbf56c2546e"
   },
   "outputs": [
    {
     "name": "stdout",
     "output_type": "stream",
     "text": [
      "Model: \"sequential_1\"\n",
      "_________________________________________________________________\n",
      "Layer (type)                 Output Shape              Param #   \n",
      "=================================================================\n",
      "conv2d_1 (Conv2D)            (None, 224, 224, 32)      2432      \n",
      "_________________________________________________________________\n",
      "batch_normalization_1 (Batch (None, 224, 224, 32)      128       \n",
      "_________________________________________________________________\n",
      "max_pooling2d_1 (MaxPooling2 (None, 112, 112, 32)      0         \n",
      "_________________________________________________________________\n",
      "conv2d_2 (Conv2D)            (None, 112, 112, 32)      25632     \n",
      "_________________________________________________________________\n",
      "batch_normalization_2 (Batch (None, 112, 112, 32)      128       \n",
      "_________________________________________________________________\n",
      "max_pooling2d_2 (MaxPooling2 (None, 56, 56, 32)        0         \n",
      "_________________________________________________________________\n",
      "dropout_1 (Dropout)          (None, 56, 56, 32)        0         \n",
      "_________________________________________________________________\n",
      "conv2d_3 (Conv2D)            (None, 56, 56, 64)        18496     \n",
      "_________________________________________________________________\n",
      "batch_normalization_3 (Batch (None, 56, 56, 64)        256       \n",
      "_________________________________________________________________\n",
      "dropout_2 (Dropout)          (None, 56, 56, 64)        0         \n",
      "_________________________________________________________________\n",
      "flatten_1 (Flatten)          (None, 200704)            0         \n",
      "_________________________________________________________________\n",
      "dense_1 (Dense)              (None, 512)               102760960 \n",
      "_________________________________________________________________\n",
      "dropout_3 (Dropout)          (None, 512)               0         \n",
      "_________________________________________________________________\n",
      "dense_2 (Dense)              (None, 512)               262656    \n",
      "_________________________________________________________________\n",
      "dense_3 (Dense)              (None, 1)                 513       \n",
      "=================================================================\n",
      "Total params: 103,071,201\n",
      "Trainable params: 103,070,945\n",
      "Non-trainable params: 256\n",
      "_________________________________________________________________\n"
     ]
    }
   ],
   "source": [
    "model = Sequential()\n",
    "\n",
    "model.add(InputLayer(input_shape = (224,224,3)))\n",
    "model.add(Conv2D(32, kernel_size = (5,5), activation = 'relu', strides = (1,1), padding = 'same'))\n",
    "model.add(BatchNormalization())\n",
    "model.add(MaxPool2D(pool_size = (2,2)))\n",
    "model.add(Conv2D(32, kernel_size = (5,5), activation = 'relu', strides = (1,1), padding = 'same'))\n",
    "model.add(BatchNormalization())\n",
    "model.add(MaxPool2D(pool_size = (2,2)))\n",
    "model.add(Dropout(0.25))\n",
    "\n",
    "model.add(Conv2D(filters = 64, kernel_size = (3,3), padding = \"same\", activation = \"relu\"))\n",
    "model.add(BatchNormalization())\n",
    "model.add(Dropout(0.25))\n",
    "\n",
    "model.add(Flatten())\n",
    "model.add(Dense(512, activation = \"relu\"))\n",
    "model.add(Dropout(0.20))\n",
    "model.add(Dense(512, activation = \"relu\"))\n",
    "model.add(Dense(1, activation = \"sigmoid\"))\n",
    "model.summary()"
   ]
  },
  {
   "cell_type": "code",
   "execution_count": null,
   "metadata": {
    "colab": {},
    "colab_type": "code",
    "id": "LKDY2gXCpSKG"
   },
   "outputs": [],
   "source": [
    "# import os\n",
    "# import numpy as np\n",
    "# import cv2\n",
    "# class DataGenerator(Sequence):\n",
    "#     def __init__(self, dataframe, image_path, batch_size = 32, mode = \"train\"):\n",
    "#         self.dataframe = dataframe\n",
    "#         self.batch_size = batch_size\n",
    "#         self.mode = mode\n",
    "#         self.folder_path = image_path\n",
    "#         self.labels = self.dataframe[\"emergency_or_not\"].values\n",
    "#         # self.labels = to_categorical(self.labels)\n",
    "#         self.img_list = self.dataframe[\"image_names\"].tolist()\n",
    "        \n",
    "#     def on_epoch_end(self):\n",
    "#         self.indexes = np.arange(self.img_list)\n",
    "#         if self.mode == \"train\":\n",
    "#             self.indexes = random.sample(self.indexes, k = len(self.indexes))\n",
    "    \n",
    "#     def __len__(self):\n",
    "#         return(self.dataframe.shape[0]//self.batch_size)\n",
    "    \n",
    "#     def get_batch_features(self, idx):\n",
    "#         # img_name_list = [im for im in self.img_list[idx * self.batch_size : (1+idx) * self.batch_size]] \n",
    "#         # print(\"image_name_list -----\",img_name_list,\"\\n\\n\\n\\n\\n\")\n",
    "#         # images = [self.get_image(i) for i in img_name_list]\n",
    "#         # return(np.array(images))\n",
    "#         return(self.np.array([self.cv2.imread(self.folder_path+im) for im in self.img_list[idx * self.batch_size : (1+idx) * self.batch_size]]))\n",
    "    \n",
    "#     def get_batch_labels(self,idx):\n",
    "#         return(self.np.array(self.labels[idx * self.batch_size : (1+idx) * self.batch_size]))\n",
    "    \n",
    "#     def get_image(self,img_name):\n",
    "#         print(\"folder path -----\",self.folder_path,\"\\n\\n\\n\\n\\n\")\n",
    "#         print(\"image name ------\",img_name,\"\\n\\n\\n\\n\\n\")\n",
    "#         img = self.cv2.imread(self.join(self.folder_path,img_name))\n",
    "#         img = self.cv2.cvtColor(img, self.cv2.COLOR_BGR2RGB) \n",
    "#         img = img/255.0\n",
    "#         return img\n",
    "        \n",
    "#     def __getitem__(self, idx):\n",
    "#         batch_X = self.get_batch_features(idx)\n",
    "#         batch_Y = self.get_batch_labels(idx)\n",
    "#         return(batch_X,batch_Y)"
   ]
  },
  {
   "cell_type": "code",
   "execution_count": null,
   "metadata": {
    "colab": {},
    "colab_type": "code",
    "id": "OyrkAdn4pSKI"
   },
   "outputs": [],
   "source": [
    "from skimage.io import imread\n",
    "from skimage.transform import resize\n",
    "import numpy as np\n",
    "import math\n",
    "\n",
    "# Here, `x_set` is list of path to the images\n",
    "# and `y_set` are the associated classes.\n",
    "\n",
    "class DataGenerator(Sequence):\n",
    "\n",
    "    def __init__(self, dataframe, image_path, batch_size = 32, mode = \"train\"):\n",
    "        self.dataframe = dataframe\n",
    "        self.batch_size = batch_size\n",
    "        self.mode = mode\n",
    "        self.folder_path = image_path\n",
    "        self.labels = self.dataframe[\"emergency_or_not\"].values\n",
    "        #self.labels = to_categorical(self.labels)\n",
    "        self.img_list = self.dataframe[\"image_names\"].tolist()\n",
    "        # self.labels = to_categorical(self.labels)\n",
    "\n",
    "\n",
    "    def __len__(self):\n",
    "        return math.ceil(self.dataframe.shape[0]/self.batch_size)\n",
    "\n",
    "    def read(self,file_name):\n",
    "        img = resize(imread(self.folder_path+file_name), (224, 224))\n",
    "        return(img/255.0)\n",
    "\n",
    "    def __getitem__(self, idx):\n",
    "        batch_x = self.img_list[idx * self.batch_size:(idx + 1) * self.batch_size]\n",
    "        batch_y = self.labels[idx * self.batch_size:(idx + 1) * self.batch_size]\n",
    "        #print(batch_x,batch_y)\n",
    "\n",
    "        return np.array([self.read(file_name) for file_name in batch_x]), np.array(batch_y)"
   ]
  },
  {
   "cell_type": "code",
   "execution_count": null,
   "metadata": {
    "colab": {},
    "colab_type": "code",
    "id": "bAVb5zclpSKK"
   },
   "outputs": [],
   "source": [
    "import pandas as pd\n",
    "df = pd.read_csv(\"/content/data/ana_vid_vehicle_classification/train.csv\")"
   ]
  },
  {
   "cell_type": "code",
   "execution_count": null,
   "metadata": {
    "colab": {
     "base_uri": "https://localhost:8080/",
     "height": 34
    },
    "colab_type": "code",
    "id": "ZfHCnM0lpSKN",
    "outputId": "a9516f2d-66ec-44a6-8e8f-b9e2fad41f66"
   },
   "outputs": [
    {
     "data": {
      "text/plain": [
       "1646"
      ]
     },
     "execution_count": 9,
     "metadata": {
      "tags": []
     },
     "output_type": "execute_result"
    }
   ],
   "source": [
    "df.shape[0]"
   ]
  },
  {
   "cell_type": "code",
   "execution_count": null,
   "metadata": {
    "colab": {},
    "colab_type": "code",
    "id": "HvRdmcOtpSKP"
   },
   "outputs": [],
   "source": [
    "from sklearn.model_selection import train_test_split\n",
    "train, val = train_test_split(df, test_size=0.2)"
   ]
  },
  {
   "cell_type": "code",
   "execution_count": null,
   "metadata": {
    "colab": {},
    "colab_type": "code",
    "id": "DMlDEtcwpSKR"
   },
   "outputs": [],
   "source": []
  },
  {
   "cell_type": "code",
   "execution_count": null,
   "metadata": {
    "colab": {},
    "colab_type": "code",
    "id": "_gKFQRibpSKS"
   },
   "outputs": [],
   "source": [
    "train_generator = DataGenerator(train, \"/content/data/ana_vid_vehicle_classification/images/\")\n",
    "val_generator = DataGenerator(val, \"/content/data/ana_vid_vehicle_classification/images/\")"
   ]
  },
  {
   "cell_type": "code",
   "execution_count": null,
   "metadata": {
    "colab": {},
    "colab_type": "code",
    "id": "-IHPn58Brsho"
   },
   "outputs": [],
   "source": [
    "opt = Adam(lr = 0.01)\n",
    "model.compile(optimizer=opt, loss='binary_crossentropy', metrics=['accuracy'])\n",
    "learning_rate_reduction = ReduceLROnPlateau(monitor='val_accuracy', \n",
    "                                            patience=3, \n",
    "                                            verbose=1, \n",
    "                                            factor=0.5, \n",
    "                                            min_lr=0.00001)\n",
    "early_stopping = EarlyStopping(monitor='val_accuracy', min_delta=0, patience=10, verbose=1, mode='auto')"
   ]
  },
  {
   "cell_type": "code",
   "execution_count": null,
   "metadata": {
    "colab": {},
    "colab_type": "code",
    "id": "_3zk92lJrshv"
   },
   "outputs": [],
   "source": [
    "epochs = 5"
   ]
  },
  {
   "cell_type": "code",
   "execution_count": null,
   "metadata": {
    "colab": {
     "base_uri": "https://localhost:8080/",
     "height": 238
    },
    "colab_type": "code",
    "id": "s4_NjIfXrsh0",
    "outputId": "46db63ac-a1bd-45e1-abc2-7980b72df453"
   },
   "outputs": [
    {
     "name": "stdout",
     "output_type": "stream",
     "text": [
      "Epoch 1/5\n",
      "40/40 [==============================] - 28s 692ms/step - loss: 21.0717 - accuracy: 0.5719 - val_loss: 0.6828 - val_accuracy: 0.6121\n",
      "Epoch 2/5\n",
      "40/40 [==============================] - 25s 633ms/step - loss: 0.7084 - accuracy: 0.5844 - val_loss: 0.6629 - val_accuracy: 0.6121\n",
      "Epoch 3/5\n",
      "40/40 [==============================] - 24s 598ms/step - loss: 0.6878 - accuracy: 0.5719 - val_loss: 0.6528 - val_accuracy: 0.6121\n",
      "Epoch 4/5\n",
      "40/40 [==============================] - 25s 620ms/step - loss: 0.6836 - accuracy: 0.5759 - val_loss: 0.6479 - val_accuracy: 0.6121\n",
      "\n",
      "Epoch 00004: ReduceLROnPlateau reducing learning rate to 0.004999999888241291.\n",
      "Epoch 5/5\n",
      "40/40 [==============================] - 25s 626ms/step - loss: 0.6987 - accuracy: 0.5828 - val_loss: 0.6456 - val_accuracy: 0.6121\n"
     ]
    }
   ],
   "source": [
    "history = model.fit_generator(train_generator, epochs=epochs, steps_per_epoch = 40, validation_data=val_generator, verbose = 1, callbacks=[learning_rate_reduction, early_stopping])"
   ]
  },
  {
   "cell_type": "code",
   "execution_count": null,
   "metadata": {
    "colab": {
     "base_uri": "https://localhost:8080/",
     "height": 374
    },
    "colab_type": "code",
    "id": "6Ul_qecfrsh3",
    "outputId": "40602a48-5275-40b3-998a-b123e1f0d880"
   },
   "outputs": [
    {
     "data": {
      "image/png": "[encoded data removed]",
      "text/plain": [
       "<Figure size 576x432 with 2 Axes>"
      ]
     },
     "metadata": {
      "needs_background": "light",
      "tags": []
     },
     "output_type": "display_data"
    }
   ],
   "source": [
    "import matplotlib.pyplot as plt\n",
    "%matplotlib inline\n",
    "from matplotlib import rcParams\n",
    "\n",
    "fig, ax = plt.subplots(2,1, figsize=(8, 6))\n",
    "ax[0].plot(history.history['loss'], color='b', label=\"Training loss\")\n",
    "ax[0].plot(history.history['val_loss'], color='r', label=\"validation loss\",axes =ax[0])\n",
    "legend = ax[0].legend(loc='best', shadow=True)\n",
    "\n",
    "ax[1].plot(history.history['accuracy'], color='b', label=\"Training accuracy\")\n",
    "ax[1].plot(history.history['val_accuracy'], color='r',label=\"Validation accuracy\")\n",
    "legend = ax[1].legend(loc='best', shadow=True)"
   ]
  },
  {
   "cell_type": "code",
   "execution_count": null,
   "metadata": {
    "colab": {},
    "colab_type": "code",
    "id": "EJap2Nm9xRy9"
   },
   "outputs": [],
   "source": []
  }
 ],
 "metadata": {
  "accelerator": "GPU",
  "colab": {
   "collapsed_sections": [],
   "name": "Copy of Copy of transfer_leraning_trial.ipynb",
   "provenance": []
  },
  "kernelspec": {
   "display_name": "Python 3",
   "language": "python",
   "name": "python3"
  },
  "language_info": {
   "codemirror_mode": {
    "name": "ipython",
    "version": 3
   },
   "file_extension": ".py",
   "mimetype": "text/x-python",
   "name": "python",
   "nbconvert_exporter": "python",
   "pygments_lexer": "ipython3",
   "version": "3.6.7"
  }
 },
 "nbformat": 4,
 "nbformat_minor": 4
}
