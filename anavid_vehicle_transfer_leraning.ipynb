{
 "cells": [
  {
   "cell_type": "code",
   "execution_count": null,
   "metadata": {
    "colab": {
     "base_uri": "https://localhost:8080/",
     "height": 121
    },
    "colab_type": "code",
    "id": "ndIJcmh1ph5K",
    "outputId": "219e2c2c-d115-4f22-c8cd-2cc8e593ca68"
   },
   "outputs": [],
   "source": [
    "from google.colab import drive\n",
    "drive.mount('/content/drive')"
   ]
  },
  {
   "cell_type": "code",
   "execution_count": null,
   "metadata": {
    "colab": {},
    "colab_type": "code",
    "id": "9V7NH3GDpXw7"
   },
   "outputs": [],
   "source": [
    "! mkdir \"/content/data\"\n",
    "! cp \"/content/drive/My Drive/Colab Notebooks/data/anavid/anavid_classification.zip\" \"/content/data\""
   ]
  },
  {
   "cell_type": "code",
   "execution_count": null,
   "metadata": {
    "colab": {
     "base_uri": "https://localhost:8080/",
     "height": 1000
    },
    "colab_type": "code",
    "id": "rnQJjVFlpY6k",
    "outputId": "5f9bf78a-7407-4830-fd68-2dc97e2f0927"
   },
   "outputs": [],
   "source": [
    "! unzip -d \"/content/data\" \"/content/data/anavid_classification.zip\""
   ]
  },
  {
   "cell_type": "code",
   "execution_count": null,
   "metadata": {
    "colab": {
     "base_uri": "https://localhost:8080/",
     "height": 524
    },
    "colab_type": "code",
    "id": "CCarf1Q7pZDO",
    "outputId": "07174a93-bcdd-4fb9-bdf7-32a210e43bd1"
   },
   "outputs": [],
   "source": [
    "! pip install albumentations"
   ]
  },
  {
   "cell_type": "code",
   "execution_count": null,
   "metadata": {
    "colab": {},
    "colab_type": "code",
    "id": "v5-ygSj-rT30"
   },
   "outputs": [],
   "source": [
    "from keras.preprocessing.image import ImageDataGenerator\n",
    "from keras.preprocessing.image import load_img\n",
    "from keras.preprocessing.image import img_to_array\n",
    "from keras.applications.vgg16 import VGG16\n",
    "from keras.models import Sequential, Model\n",
    "from keras.layers import Dense, Dropout, Flatten,MaxPool2D, BatchNormalization, Conv2D, InputLayer\n",
    "from keras.callbacks import ReduceLROnPlateau, EarlyStopping\n",
    "from keras.optimizers import Adam\n",
    "from keras.utils import Sequence\n",
    "from keras.utils import to_categorical\n",
    "\n",
    "from albumentations import (Blur, MotionBlur, MedianBlur,  GaussNoise, RandomGamma,\n",
    "                            HorizontalFlip, ShiftScaleRotate, RandomBrightnessContrast, JpegCompression, \n",
    "                            OneOf, Compose)"
   ]
  },
  {
   "cell_type": "code",
   "execution_count": null,
   "metadata": {
    "colab": {},
    "colab_type": "code",
    "id": "ndkwG86grshs"
   },
   "outputs": [],
   "source": [
    "# def aug_image(image):\n",
    "#     p = 0.2\n",
    "#     aug = Compose([\n",
    "#                    OneOf([\n",
    "#                           Blur(p=p, blur_limit= (2,2)),\n",
    "#                           MotionBlur(blur_limit=3,p = p),\n",
    "#                           MedianBlur(blur_limit=3,p = p),\n",
    "#                           GaussianBlur(blur_limit=3,p = p),\n",
    "#                           GaussNoise(p = p),\n",
    "#                           RandomGamma(p = p)\n",
    "#                    ],p = p),\n",
    "#                    HorizontalFlip(p=p),\n",
    "#                    ShiftScaleRotate(shift_limit=0.06, scale_limit=0.2, rotate_limit=15, border_mode = 4, p=p),\n",
    "#                    RandomBrightnessContrast(p=p),\n",
    "#                    RandomShadow(p = p, num_shadows_lower=1, num_shadows_upper=3, shadow_dimension=4)\n",
    "#     ],p=p)\n",
    "#     image = aug(image = image)['image']\n",
    "#     return image\n",
    "# imagegen = ImageDataGenerator(preprocessing_function=aug_image,rescale=1./255)\n",
    "# imagegen_ = ImageDataGenerator(preprocessing_function=None,rescale=1./255)\n",
    "# train = imagegen.flow_from_directory(\"data/seg_train/seg_train\",target_size=(150,150),batch_size=128)\n",
    "# val = imagegen_.flow_from_directory(\"data/seg_test/seg_test\",target_size=(150,150),batch_size=128)"
   ]
  },
  {
   "cell_type": "code",
   "execution_count": null,
   "metadata": {
    "colab": {
     "base_uri": "https://localhost:8080/",
     "height": 1000
    },
    "colab_type": "code",
    "id": "fwU0ekQwHDdC",
    "outputId": "aa270434-3cbe-4a04-ff60-53ad8c9b873a"
   },
   "outputs": [
    {
     "name": "stdout",
     "output_type": "stream",
     "text": [
      "Model: \"model_2\"\n",
      "_________________________________________________________________\n",
      "Layer (type)                 Output Shape              Param #   \n",
      "=================================================================\n",
      "input_4 (InputLayer)         (None, 224, 224, 3)       0         \n",
      "_________________________________________________________________\n",
      "block1_conv1 (Conv2D)        (None, 224, 224, 64)      1792      \n",
      "_________________________________________________________________\n",
      "block1_conv2 (Conv2D)        (None, 224, 224, 64)      36928     \n",
      "_________________________________________________________________\n",
      "block1_pool (MaxPooling2D)   (None, 112, 112, 64)      0         \n",
      "_________________________________________________________________\n",
      "block2_conv1 (Conv2D)        (None, 112, 112, 128)     73856     \n",
      "_________________________________________________________________\n",
      "block2_conv2 (Conv2D)        (None, 112, 112, 128)     147584    \n",
      "_________________________________________________________________\n",
      "block2_pool (MaxPooling2D)   (None, 56, 56, 128)       0         \n",
      "_________________________________________________________________\n",
      "block3_conv1 (Conv2D)        (None, 56, 56, 256)       295168    \n",
      "_________________________________________________________________\n",
      "block3_conv2 (Conv2D)        (None, 56, 56, 256)       590080    \n",
      "_________________________________________________________________\n",
      "block3_conv3 (Conv2D)        (None, 56, 56, 256)       590080    \n",
      "_________________________________________________________________\n",
      "block3_pool (MaxPooling2D)   (None, 28, 28, 256)       0         \n",
      "_________________________________________________________________\n",
      "block4_conv1 (Conv2D)        (None, 28, 28, 512)       1180160   \n",
      "_________________________________________________________________\n",
      "block4_conv2 (Conv2D)        (None, 28, 28, 512)       2359808   \n",
      "_________________________________________________________________\n",
      "block4_conv3 (Conv2D)        (None, 28, 28, 512)       2359808   \n",
      "_________________________________________________________________\n",
      "block4_pool (MaxPooling2D)   (None, 14, 14, 512)       0         \n",
      "_________________________________________________________________\n",
      "block5_conv1 (Conv2D)        (None, 14, 14, 512)       2359808   \n",
      "_________________________________________________________________\n",
      "block5_conv2 (Conv2D)        (None, 14, 14, 512)       2359808   \n",
      "_________________________________________________________________\n",
      "block5_conv3 (Conv2D)        (None, 14, 14, 512)       2359808   \n",
      "_________________________________________________________________\n",
      "block5_pool (MaxPooling2D)   (None, 7, 7, 512)         0         \n",
      "_________________________________________________________________\n",
      "flatten_4 (Flatten)          (None, 25088)             0         \n",
      "_________________________________________________________________\n",
      "batch_normalization_8 (Batch (None, 25088)             100352    \n",
      "_________________________________________________________________\n",
      "dense_11 (Dense)             (None, 1024)              25691136  \n",
      "_________________________________________________________________\n",
      "dense_12 (Dense)             (None, 1024)              1049600   \n",
      "_________________________________________________________________\n",
      "dropout_8 (Dropout)          (None, 1024)              0         \n",
      "_________________________________________________________________\n",
      "dense_13 (Dense)             (None, 512)               524800    \n",
      "_________________________________________________________________\n",
      "dense_14 (Dense)             (None, 1)                 513       \n",
      "=================================================================\n",
      "Total params: 42,081,089\n",
      "Trainable params: 27,316,225\n",
      "Non-trainable params: 14,764,864\n",
      "_________________________________________________________________\n"
     ]
    }
   ],
   "source": [
    "model = VGG16(include_top=False, input_shape=(224,224, 3))\n",
    "for layer in model.layers:\n",
    "\tlayer.trainable = False\n",
    "\n",
    "x = Flatten()(model.output)\n",
    "x = BatchNormalization()(x)\n",
    "x = Dense(1024, activation='relu')(x)\n",
    "x = Dense(1024, activation='relu')(x)\n",
    "x = Dropout(0.2)(x)\n",
    "x = Dense(512, activation = 'relu')(x)\n",
    "x = Dense(1, activation='sigmoid')(x)\n",
    "\n",
    "model = Model(inputs=model.inputs, outputs=x)\n",
    "\n",
    "model.summary()"
   ]
  },
  {
   "cell_type": "code",
   "execution_count": null,
   "metadata": {
    "colab": {},
    "colab_type": "code",
    "id": "2s6YH-M2pSKE"
   },
   "outputs": [],
   "source": [
    "# model = Sequential()\n",
    "\n",
    "# model.add(InputLayer(input_shape = (224,224,3)))\n",
    "# model.add(Conv2D(32, kernel_size = (5,5), activation = 'relu', strides = (1,1), padding = 'same'))\n",
    "# model.add(BatchNormalization())\n",
    "# model.add(MaxPool2D(pool_size = (2,2)))\n",
    "# model.add(Conv2D(32, kernel_size = (5,5), activation = 'relu', strides = (1,1), padding = 'same'))\n",
    "# model.add(BatchNormalization())\n",
    "# model.add(MaxPool2D(pool_size = (2,2)))\n",
    "# model.add(Dropout(0.25))\n",
    "\n",
    "# model.add(Conv2D(filters = 64, kernel_size = (3,3), padding = \"same\", activation = \"relu\"))\n",
    "# model.add(BatchNormalization())\n",
    "# model.add(Dropout(0.25))\n",
    "\n",
    "# model.add(Flatten())\n",
    "# model.add(Dense(512, activation = \"relu\"))\n",
    "# model.add(Dropout(0.20))\n",
    "# model.add(Dense(512, activation = \"relu\"))\n",
    "# model.add(Dense(1, activation = \"sigmoid\"))\n",
    "# model.summary()"
   ]
  },
  {
   "cell_type": "code",
   "execution_count": null,
   "metadata": {
    "colab": {},
    "colab_type": "code",
    "id": "LKDY2gXCpSKG"
   },
   "outputs": [],
   "source": [
    "# import os\n",
    "# import numpy as np\n",
    "# import cv2\n",
    "# class DataGenerator(Sequence):\n",
    "#     def __init__(self, dataframe, image_path, batch_size = 32, mode = \"train\"):\n",
    "#         self.dataframe = dataframe\n",
    "#         self.batch_size = batch_size\n",
    "#         self.mode = mode\n",
    "#         self.folder_path = image_path\n",
    "#         self.labels = self.dataframe[\"emergency_or_not\"].values\n",
    "#         # self.labels = to_categorical(self.labels)\n",
    "#         self.img_list = self.dataframe[\"image_names\"].tolist()\n",
    "        \n",
    "#     def on_epoch_end(self):\n",
    "#         self.indexes = np.arange(self.img_list)\n",
    "#         if self.mode == \"train\":\n",
    "#             self.indexes = random.sample(self.indexes, k = len(self.indexes))\n",
    "    \n",
    "#     def __len__(self):\n",
    "#         return(self.dataframe.shape[0]//self.batch_size)\n",
    "    \n",
    "#     def get_batch_features(self, idx):\n",
    "#         # img_name_list = [im for im in self.img_list[idx * self.batch_size : (1+idx) * self.batch_size]] \n",
    "#         # print(\"image_name_list -----\",img_name_list,\"\\n\\n\\n\\n\\n\")\n",
    "#         # images = [self.get_image(i) for i in img_name_list]\n",
    "#         # return(np.array(images))\n",
    "#         return(self.np.array([self.cv2.imread(self.folder_path+im) for im in self.img_list[idx * self.batch_size : (1+idx) * self.batch_size]]))\n",
    "    \n",
    "#     def get_batch_labels(self,idx):\n",
    "#         return(self.np.array(self.labels[idx * self.batch_size : (1+idx) * self.batch_size]))\n",
    "    \n",
    "#     def get_image(self,img_name):\n",
    "#         print(\"folder path -----\",self.folder_path,\"\\n\\n\\n\\n\\n\")\n",
    "#         print(\"image name ------\",img_name,\"\\n\\n\\n\\n\\n\")\n",
    "#         img = self.cv2.imread(self.join(self.folder_path,img_name))\n",
    "#         img = self.cv2.cvtColor(img, self.cv2.COLOR_BGR2RGB) \n",
    "#         img = img/255.0\n",
    "#         return img\n",
    "        \n",
    "#     def __getitem__(self, idx):\n",
    "#         batch_X = self.get_batch_features(idx)\n",
    "#         batch_Y = self.get_batch_labels(idx)\n",
    "#         return(batch_X,batch_Y)"
   ]
  },
  {
   "cell_type": "code",
   "execution_count": null,
   "metadata": {
    "colab": {},
    "colab_type": "code",
    "id": "OyrkAdn4pSKI"
   },
   "outputs": [],
   "source": [
    "import numpy as np\n",
    "import math\n",
    "import random\n",
    "\n",
    "class DataGenerator(Sequence):\n",
    "\n",
    "    def __init__(self, dataframe, image_path, batch_size = 32, mode = \"train\"):\n",
    "        self.dataframe = dataframe\n",
    "        self.batch_size = batch_size\n",
    "        self.mode = mode\n",
    "        self.folder_path = image_path\n",
    "        self.labels = self.dataframe[\"emergency_or_not\"].values\n",
    "        self.img_list = self.dataframe[\"image_names\"].tolist()\n",
    "\n",
    "    def __len__(self):\n",
    "        return math.ceil(self.dataframe.shape[0]/self.batch_size)\n",
    "\n",
    "    def read(self,file_name):\n",
    "        img = load_img(self.folder_path+file_name, target_size = (224,224,3))\n",
    "        img = img_to_array(img)\n",
    "        if self.mode == 'train':\n",
    "            img = self.aug_image(img)\n",
    "        img = img/255.0\n",
    "        return(img)\n",
    "    \n",
    "    def on_epoch_end(self):\n",
    "        self.indexes = range(len(self.img_list))\n",
    "        if self.mode == 'train':\n",
    "            self.indexes = random.sample(self.indexes, k=len(self.indexes))\n",
    "    \n",
    "    def aug_image(self,image):\n",
    "        p = 0.2\n",
    "        aug = Compose([\n",
    "                    OneOf([\n",
    "                            Blur(p=p, blur_limit= (2,2)),\n",
    "                            MotionBlur(blur_limit=3,p = p),\n",
    "                            MedianBlur(blur_limit=3,p = p),\n",
    "                            GaussNoise(p = p),\n",
    "                            RandomGamma(p = p)\n",
    "                    ],p = p),\n",
    "                    HorizontalFlip(p=p),\n",
    "                    ShiftScaleRotate(shift_limit=0.06, scale_limit=0.2, rotate_limit=15, border_mode = 4, p=p),\n",
    "                    RandomBrightnessContrast(p=p)\n",
    "        ],p=p)\n",
    "        image = aug(image = image)['image']\n",
    "        return image\n",
    "    \n",
    "    def __getitem__(self, idx):\n",
    "        batch_x = self.img_list[idx * self.batch_size:(idx + 1) * self.batch_size]\n",
    "        batch_y = self.labels[idx * self.batch_size:(idx + 1) * self.batch_size]\n",
    "        #print(batch_x,batch_y)\n",
    "\n",
    "        return np.array([self.read(file_name) for file_name in batch_x]), np.array(batch_y)"
   ]
  },
  {
   "cell_type": "code",
   "execution_count": null,
   "metadata": {
    "colab": {},
    "colab_type": "code",
    "id": "bAVb5zclpSKK"
   },
   "outputs": [],
   "source": [
    "import pandas as pd\n",
    "df = pd.read_csv(\"/content/data/ana_vid_vehicle_classification/train.csv\")"
   ]
  },
  {
   "cell_type": "code",
   "execution_count": null,
   "metadata": {
    "colab": {},
    "colab_type": "code",
    "id": "HvRdmcOtpSKP"
   },
   "outputs": [],
   "source": [
    "from sklearn.model_selection import train_test_split\n",
    "train, val = train_test_split(df, test_size=0.2 , random_state = 12345 )"
   ]
  },
  {
   "cell_type": "code",
   "execution_count": null,
   "metadata": {
    "colab": {},
    "colab_type": "code",
    "id": "DMlDEtcwpSKR"
   },
   "outputs": [],
   "source": []
  },
  {
   "cell_type": "code",
   "execution_count": null,
   "metadata": {
    "colab": {},
    "colab_type": "code",
    "id": "_gKFQRibpSKS"
   },
   "outputs": [],
   "source": [
    "train_generator = DataGenerator(train, \"/content/data/ana_vid_vehicle_classification/images/\",mode = \"train\")\n",
    "val_generator = DataGenerator(val, \"/content/data/ana_vid_vehicle_classification/images/\", mode = \"val\")"
   ]
  },
  {
   "cell_type": "code",
   "execution_count": null,
   "metadata": {
    "colab": {},
    "colab_type": "code",
    "id": "-IHPn58Brsho"
   },
   "outputs": [],
   "source": [
    "opt = Adam(lr = 0.001)\n",
    "model.compile(optimizer=opt, loss='binary_crossentropy', metrics=['accuracy'])\n",
    "learning_rate_reduction = ReduceLROnPlateau(monitor='val_accuracy', \n",
    "                                            patience=3, \n",
    "                                            verbose=1, \n",
    "                                            factor=0.5, \n",
    "                                            min_lr=0.00001)\n",
    "early_stopping = EarlyStopping(monitor='val_accuracy', min_delta=0, patience=10, verbose=1, mode='auto')"
   ]
  },
  {
   "cell_type": "code",
   "execution_count": null,
   "metadata": {
    "colab": {},
    "colab_type": "code",
    "id": "_3zk92lJrshv"
   },
   "outputs": [],
   "source": [
    "epochs = 32"
   ]
  },
  {
   "cell_type": "code",
   "execution_count": null,
   "metadata": {
    "colab": {
     "base_uri": "https://localhost:8080/",
     "height": 1000
    },
    "colab_type": "code",
    "id": "s4_NjIfXrsh0",
    "outputId": "f9ea6dd3-878e-472e-88ae-2b3ba02e5890"
   },
   "outputs": [
    {
     "name": "stdout",
     "output_type": "stream",
     "text": [
      "Epoch 1/32\n",
      "40/40 [==============================] - 16s 406ms/step - loss: 0.5359 - accuracy: 0.8850 - val_loss: 0.5089 - val_accuracy: 0.8424\n",
      "Epoch 2/32\n",
      "40/40 [==============================] - 16s 388ms/step - loss: 0.1789 - accuracy: 0.9398 - val_loss: 0.4117 - val_accuracy: 0.8697\n",
      "Epoch 3/32\n",
      "40/40 [==============================] - 15s 385ms/step - loss: 0.4201 - accuracy: 0.9297 - val_loss: 0.0248 - val_accuracy: 0.9061\n",
      "Epoch 4/32\n",
      "40/40 [==============================] - 15s 379ms/step - loss: 0.3955 - accuracy: 0.9404 - val_loss: 3.7617e-06 - val_accuracy: 0.9212\n",
      "Epoch 5/32\n",
      "40/40 [==============================] - 16s 390ms/step - loss: 0.0880 - accuracy: 0.9672 - val_loss: 1.8271e-07 - val_accuracy: 0.9061\n",
      "Epoch 6/32\n",
      "40/40 [==============================] - 15s 384ms/step - loss: 0.1408 - accuracy: 0.9673 - val_loss: 3.0943e-04 - val_accuracy: 0.9152\n",
      "Epoch 7/32\n",
      "40/40 [==============================] - 15s 378ms/step - loss: 0.1096 - accuracy: 0.9624 - val_loss: 3.2820e-04 - val_accuracy: 0.9242\n",
      "Epoch 8/32\n",
      "40/40 [==============================] - 15s 382ms/step - loss: 0.0726 - accuracy: 0.9704 - val_loss: 1.4143e-05 - val_accuracy: 0.9212\n",
      "Epoch 9/32\n",
      "40/40 [==============================] - 15s 382ms/step - loss: 0.0746 - accuracy: 0.9688 - val_loss: 0.0045 - val_accuracy: 0.9182\n",
      "Epoch 10/32\n",
      "40/40 [==============================] - 16s 389ms/step - loss: 0.0590 - accuracy: 0.9664 - val_loss: 1.8828e-07 - val_accuracy: 0.9121\n",
      "\n",
      "Epoch 00010: ReduceLROnPlateau reducing learning rate to 0.0005000000237487257.\n",
      "Epoch 11/32\n",
      "40/40 [==============================] - 15s 378ms/step - loss: 0.0653 - accuracy: 0.9747 - val_loss: 1.2411e-04 - val_accuracy: 0.9212\n",
      "Epoch 12/32\n",
      "40/40 [==============================] - 15s 384ms/step - loss: 0.0333 - accuracy: 0.9824 - val_loss: 2.1755e-05 - val_accuracy: 0.9242\n",
      "Epoch 13/32\n",
      "40/40 [==============================] - 16s 389ms/step - loss: 0.0660 - accuracy: 0.9750 - val_loss: 4.0049e-05 - val_accuracy: 0.9212\n",
      "\n",
      "Epoch 00013: ReduceLROnPlateau reducing learning rate to 0.0002500000118743628.\n",
      "Epoch 14/32\n",
      "40/40 [==============================] - 15s 379ms/step - loss: 0.0553 - accuracy: 0.9657 - val_loss: 2.2265e-05 - val_accuracy: 0.9242\n",
      "Epoch 15/32\n",
      "40/40 [==============================] - 16s 389ms/step - loss: 0.0388 - accuracy: 0.9750 - val_loss: 9.0811e-07 - val_accuracy: 0.9273\n",
      "Epoch 16/32\n",
      "40/40 [==============================] - 15s 383ms/step - loss: 0.0317 - accuracy: 0.9808 - val_loss: 7.4259e-08 - val_accuracy: 0.9273\n",
      "Epoch 17/32\n",
      "40/40 [==============================] - 15s 383ms/step - loss: 0.0524 - accuracy: 0.9760 - val_loss: 8.7675e-08 - val_accuracy: 0.9303\n",
      "Epoch 18/32\n",
      "40/40 [==============================] - 15s 384ms/step - loss: 0.0372 - accuracy: 0.9784 - val_loss: 2.1438e-08 - val_accuracy: 0.9273\n",
      "Epoch 19/32\n",
      "40/40 [==============================] - 15s 379ms/step - loss: 0.0462 - accuracy: 0.9739 - val_loss: 1.4483e-06 - val_accuracy: 0.9182\n",
      "Epoch 20/32\n",
      "40/40 [==============================] - 16s 389ms/step - loss: 0.0281 - accuracy: 0.9875 - val_loss: 1.8491e-07 - val_accuracy: 0.9182\n",
      "\n",
      "Epoch 00020: ReduceLROnPlateau reducing learning rate to 0.0001250000059371814.\n",
      "Epoch 21/32\n",
      "40/40 [==============================] - 15s 383ms/step - loss: 0.0355 - accuracy: 0.9800 - val_loss: 8.7033e-08 - val_accuracy: 0.9212\n",
      "Epoch 22/32\n",
      "40/40 [==============================] - 15s 384ms/step - loss: 0.0392 - accuracy: 0.9808 - val_loss: 5.0080e-08 - val_accuracy: 0.9121\n",
      "Epoch 23/32\n",
      "40/40 [==============================] - 15s 384ms/step - loss: 0.0321 - accuracy: 0.9808 - val_loss: 1.3670e-08 - val_accuracy: 0.9182\n",
      "\n",
      "Epoch 00023: ReduceLROnPlateau reducing learning rate to 6.25000029685907e-05.\n",
      "Epoch 24/32\n",
      "40/40 [==============================] - 15s 385ms/step - loss: 0.0313 - accuracy: 0.9800 - val_loss: 2.3827e-08 - val_accuracy: 0.9121\n",
      "Epoch 25/32\n",
      "40/40 [==============================] - 16s 388ms/step - loss: 0.0405 - accuracy: 0.9773 - val_loss: 2.2988e-08 - val_accuracy: 0.9182\n",
      "Epoch 26/32\n",
      "40/40 [==============================] - 15s 378ms/step - loss: 0.0299 - accuracy: 0.9820 - val_loss: 4.5365e-08 - val_accuracy: 0.9242\n",
      "\n",
      "Epoch 00026: ReduceLROnPlateau reducing learning rate to 3.125000148429535e-05.\n",
      "Epoch 27/32\n",
      "40/40 [==============================] - 16s 388ms/step - loss: 0.0357 - accuracy: 0.9844 - val_loss: 5.3921e-08 - val_accuracy: 0.9273\n",
      "Epoch 00027: early stopping\n"
     ]
    }
   ],
   "source": [
    "history = model.fit_generator(train_generator, epochs=epochs, steps_per_epoch = 40, validation_data=val_generator, verbose = 1, callbacks=[learning_rate_reduction, early_stopping])"
   ]
  },
  {
   "cell_type": "code",
   "execution_count": null,
   "metadata": {
    "colab": {
     "base_uri": "https://localhost:8080/",
     "height": 374
    },
    "colab_type": "code",
    "id": "6Ul_qecfrsh3",
    "outputId": "c00b10b9-3165-4004-9265-675e51ff49b4"
   },
   "outputs": [
    {
     "data": {
      "image/png": "[encoded data removed]",
      "text/plain": [
       "<Figure size 576x432 with 2 Axes>"
      ]
     },
     "metadata": {
      "needs_background": "light",
      "tags": []
     },
     "output_type": "display_data"
    }
   ],
   "source": [
    "import matplotlib.pyplot as plt\n",
    "%matplotlib inline\n",
    "from matplotlib import rcParams\n",
    "\n",
    "fig, ax = plt.subplots(2,1, figsize=(8, 6))\n",
    "ax[0].plot(history.history['loss'], color='b', label=\"Training loss\")\n",
    "ax[0].plot(history.history['val_loss'], color='r', label=\"validation loss\",axes =ax[0])\n",
    "legend = ax[0].legend(loc='best', shadow=True)\n",
    "\n",
    "ax[1].plot(history.history['accuracy'], color='b', label=\"Training accuracy\")\n",
    "ax[1].plot(history.history['val_accuracy'], color='r',label=\"Validation accuracy\")\n",
    "legend = ax[1].legend(loc='best', shadow=True)"
   ]
  },
  {
   "cell_type": "code",
   "execution_count": null,
   "metadata": {
    "colab": {},
    "colab_type": "code",
    "id": "EJap2Nm9xRy9"
   },
   "outputs": [],
   "source": [
    "df_t = pd.read_csv(\"/content/data/ana_vid_vehicle_classification/test_vc2kHdQ.csv\")"
   ]
  },
  {
   "cell_type": "code",
   "execution_count": null,
   "metadata": {
    "colab": {},
    "colab_type": "code",
    "id": "qlWpCd9RNM0V"
   },
   "outputs": [],
   "source": [
    "def im_predict(image_names_list,folder_path):\n",
    "    images = np.array([read(file_name,folder_path) for file_name in image_names_list])\n",
    "    results = model.predict(images)\n",
    "    results = [1 if(i>0.5)  else 0 for i in results]\n",
    "    return(results)\n",
    "\n",
    "def read(file_name,folder_path):\n",
    "    img = load_img(folder_path+file_name, target_size = (224,224,3))\n",
    "    img = img_to_array(img)\n",
    "    img = img/255.0\n",
    "    return(img)\n"
   ]
  },
  {
   "cell_type": "code",
   "execution_count": null,
   "metadata": {
    "colab": {
     "base_uri": "https://localhost:8080/",
     "height": 54
    },
    "colab_type": "code",
    "id": "jXK17hFZOIqJ",
    "outputId": "305c6cd0-5a3c-4865-c0d5-556e05aaa1d5"
   },
   "outputs": [],
   "source": [
    "X = list(df_t[\"image_names\"])\n",
    "Y = im_predict(X,\"/content/data/ana_vid_vehicle_classification/images/\")\n",
    "\n",
    "df_sub = pd.DataFrame({\"image_names\":X,\"emergency_or_not\":Y})"
   ]
  },
  {
   "cell_type": "code",
   "execution_count": null,
   "metadata": {
    "colab": {},
    "colab_type": "code",
    "id": "KUvm71I8Tupd"
   },
   "outputs": [],
   "source": [
    "df_sub.to_csv(\"anavid_vehi.csv\",index=False)"
   ]
  },
  {
   "cell_type": "code",
   "execution_count": null,
   "metadata": {
    "colab": {},
    "colab_type": "code",
    "id": "zzkqUM_YTyv9"
   },
   "outputs": [],
   "source": [
    "from google.colab import files\n",
    "files.download('anavid_vehi.csv') "
   ]
  },
  {
   "cell_type": "code",
   "execution_count": null,
   "metadata": {
    "colab": {},
    "colab_type": "code",
    "id": "pbV6RvQ0UZkM"
   },
   "outputs": [],
   "source": []
  }
 ],
 "metadata": {
  "accelerator": "GPU",
  "colab": {
   "collapsed_sections": [],
   "name": "Copy of Copy of Copy of transfer_leraning_trial.ipynb",
   "provenance": []
  },
  "kernelspec": {
   "display_name": "Python 3",
   "language": "python",
   "name": "python3"
  },
  "language_info": {
   "codemirror_mode": {
    "name": "ipython",
    "version": 3
   },
   "file_extension": ".py",
   "mimetype": "text/x-python",
   "name": "python",
   "nbconvert_exporter": "python",
   "pygments_lexer": "ipython3",
   "version": "3.6.7"
  }
 },
 "nbformat": 4,
 "nbformat_minor": 4
}
