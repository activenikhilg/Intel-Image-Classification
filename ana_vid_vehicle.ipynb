{
 "cells": [
  {
   "cell_type": "code",
   "execution_count": 1,
   "metadata": {
    "colab": {},
    "colab_type": "code",
    "id": "v5-ygSj-rT30"
   },
   "outputs": [
    {
     "name": "stderr",
     "output_type": "stream",
     "text": [
      "Using TensorFlow backend.\n"
     ]
    }
   ],
   "source": [
    "from keras.preprocessing.image import ImageDataGenerator\n",
    "from keras.applications.vgg16 import VGG16\n",
    "from keras.models import Sequential, Model\n",
    "from keras.layers import Dense, Dropout, Flatten,MaxPool2D, BatchNormalization, Conv2D, InputLayer\n",
    "from keras.callbacks import ReduceLROnPlateau, EarlyStopping\n",
    "from keras.optimizers import Adam\n",
    "from keras.utils import Sequence\n",
    "from keras.utils import to_categorical\n",
    "\n",
    "from albumentations import (Blur, MotionBlur, MedianBlur, GaussianBlur, GaussNoise, RandomGamma,\n",
    "                            HorizontalFlip, ShiftScaleRotate, RandomBrightnessContrast, JpegCompression, \n",
    "                            RandomShadow, ISONoise, Equalize, FancyPCA, CLAHE, OneOf, Compose)"
   ]
  },
  {
   "cell_type": "code",
   "execution_count": 2,
   "metadata": {
    "colab": {
     "base_uri": "https://localhost:8080/",
     "height": 50
    },
    "colab_type": "code",
    "id": "ndkwG86grshs",
    "outputId": "14be1c4b-fd24-4510-f7b9-867304721db4"
   },
   "outputs": [],
   "source": [
    "# def aug_image(image):\n",
    "#     p = 0.2\n",
    "#     aug = Compose([\n",
    "#                    OneOf([\n",
    "#                           Blur(p=p, blur_limit= (2,2)),\n",
    "#                           MotionBlur(blur_limit=3,p = p),\n",
    "#                           MedianBlur(blur_limit=3,p = p),\n",
    "#                           GaussianBlur(blur_limit=3,p = p),\n",
    "#                           GaussNoise(p = p),\n",
    "#                           RandomGamma(p = p)\n",
    "#                    ],p = p),\n",
    "#                    HorizontalFlip(p=p),\n",
    "#                    ShiftScaleRotate(shift_limit=0.06, scale_limit=0.2, rotate_limit=15, border_mode = 4, p=p),\n",
    "#                    RandomBrightnessContrast(p=p),\n",
    "#                    RandomShadow(p = p, num_shadows_lower=1, num_shadows_upper=3, shadow_dimension=4)\n",
    "#     ],p=p)\n",
    "#     image = aug(image = image)['image']\n",
    "#     return image\n",
    "# imagegen = ImageDataGenerator(preprocessing_function=aug_image,rescale=1./255)\n",
    "# imagegen_ = ImageDataGenerator(preprocessing_function=None,rescale=1./255)\n",
    "# train = imagegen.flow_from_directory(\"data/seg_train/seg_train\",target_size=(150,150),batch_size=128)\n",
    "# val = imagegen_.flow_from_directory(\"data/seg_test/seg_test\",target_size=(150,150),batch_size=128)"
   ]
  },
  {
   "cell_type": "code",
   "execution_count": 3,
   "metadata": {
    "colab": {
     "base_uri": "https://localhost:8080/",
     "height": 1000
    },
    "colab_type": "code",
    "id": "fwU0ekQwHDdC",
    "outputId": "65adf4f2-b9e8-46a5-bec9-fc42e56e1280"
   },
   "outputs": [],
   "source": [
    "# model = VGG16(include_top=False, input_shape=(150,150, 3))\n",
    "# for layer in model.layers:\n",
    "# \tlayer.trainable = False\n",
    "\n",
    "# x = Flatten()(model.output)\n",
    "# x = BatchNormalization()(x)\n",
    "# x = Dense(4096, activation='relu')(x)\n",
    "# x = Dense(4096, activation='relu')(x)\n",
    "# x = Dropout(0.2)(x)\n",
    "# x = Dense(256, activation = 'relu')(x)\n",
    "# x = Dense(6, activation='softmax')(x)\n",
    "\n",
    "# model = Model(inputs=model.inputs, outputs=x)\n",
    "\n",
    "# model.get_layer('block5_conv1').trainable = True\n",
    "# model.get_layer('block5_conv2').trainable = True\n",
    "# model.get_layer('block5_conv3').trainable = True\n",
    "\n",
    "# model.summary()"
   ]
  },
  {
   "cell_type": "code",
   "execution_count": 4,
   "metadata": {},
   "outputs": [
    {
     "name": "stdout",
     "output_type": "stream",
     "text": [
      "WARNING:tensorflow:From e:\\privateprojects\\others\\venv\\lib\\site-packages\\tensorflow_core\\python\\ops\\resource_variable_ops.py:1630: calling BaseResourceVariable.__init__ (from tensorflow.python.ops.resource_variable_ops) with constraint is deprecated and will be removed in a future version.\n",
      "Instructions for updating:\n",
      "If using Keras pass *_constraint arguments to layers.\n",
      "WARNING:tensorflow:From e:\\privateprojects\\others\\venv\\lib\\site-packages\\keras\\backend\\tensorflow_backend.py:4070: The name tf.nn.max_pool is deprecated. Please use tf.nn.max_pool2d instead.\n",
      "\n",
      "Model: \"sequential_1\"\n",
      "_________________________________________________________________\n",
      "Layer (type)                 Output Shape              Param #   \n",
      "=================================================================\n",
      "conv2d_1 (Conv2D)            (None, 224, 224, 32)      2432      \n",
      "_________________________________________________________________\n",
      "batch_normalization_1 (Batch (None, 224, 224, 32)      128       \n",
      "_________________________________________________________________\n",
      "max_pooling2d_1 (MaxPooling2 (None, 112, 112, 32)      0         \n",
      "_________________________________________________________________\n",
      "conv2d_2 (Conv2D)            (None, 112, 112, 32)      25632     \n",
      "_________________________________________________________________\n",
      "batch_normalization_2 (Batch (None, 112, 112, 32)      128       \n",
      "_________________________________________________________________\n",
      "max_pooling2d_2 (MaxPooling2 (None, 56, 56, 32)        0         \n",
      "_________________________________________________________________\n",
      "dropout_1 (Dropout)          (None, 56, 56, 32)        0         \n",
      "_________________________________________________________________\n",
      "conv2d_3 (Conv2D)            (None, 56, 56, 64)        18496     \n",
      "_________________________________________________________________\n",
      "batch_normalization_3 (Batch (None, 56, 56, 64)        256       \n",
      "_________________________________________________________________\n",
      "dropout_2 (Dropout)          (None, 56, 56, 64)        0         \n",
      "_________________________________________________________________\n",
      "flatten_1 (Flatten)          (None, 200704)            0         \n",
      "_________________________________________________________________\n",
      "dense_1 (Dense)              (None, 512)               102760960 \n",
      "_________________________________________________________________\n",
      "dropout_3 (Dropout)          (None, 512)               0         \n",
      "_________________________________________________________________\n",
      "dense_2 (Dense)              (None, 512)               262656    \n",
      "_________________________________________________________________\n",
      "dense_3 (Dense)              (None, 1)                 513       \n",
      "=================================================================\n",
      "Total params: 103,071,201\n",
      "Trainable params: 103,070,945\n",
      "Non-trainable params: 256\n",
      "_________________________________________________________________\n"
     ]
    }
   ],
   "source": [
    "model = Sequential()\n",
    "\n",
    "model.add(InputLayer(input_shape = (224,224,3)))\n",
    "model.add(Conv2D(32, kernel_size = (5,5), activation = 'relu', strides = (1,1), padding = 'same'))\n",
    "model.add(BatchNormalization())\n",
    "model.add(MaxPool2D(pool_size = (2,2)))\n",
    "model.add(Conv2D(32, kernel_size = (5,5), activation = 'relu', strides = (1,1), padding = 'same'))\n",
    "model.add(BatchNormalization())\n",
    "model.add(MaxPool2D(pool_size = (2,2)))\n",
    "model.add(Dropout(0.25))\n",
    "\n",
    "model.add(Conv2D(filters = 64, kernel_size = (3,3), padding = \"same\", activation = \"relu\"))\n",
    "model.add(BatchNormalization())\n",
    "model.add(Dropout(0.25))\n",
    "\n",
    "model.add(Flatten())\n",
    "model.add(Dense(512, activation = \"relu\"))\n",
    "model.add(Dropout(0.20))\n",
    "model.add(Dense(512, activation = \"relu\"))\n",
    "model.add(Dense(1, activation = \"softmax\"))\n",
    "model.summary()"
   ]
  },
  {
   "cell_type": "code",
   "execution_count": 5,
   "metadata": {},
   "outputs": [],
   "source": [
    "# import os\n",
    "# import numpy as np\n",
    "# import cv2\n",
    "# class DataGenerator(Sequence):\n",
    "#     def __init__(self, dataframe, image_path, batch_size = 32, mode = \"train\"):\n",
    "#         self.dataframe = dataframe\n",
    "#         self.batch_size = batch_size\n",
    "#         self.mode = mode\n",
    "#         self.folder_path = image_path\n",
    "#         self.labels = self.dataframe[\"emergency_or_not\"].values\n",
    "#         # self.labels = to_categorical(self.labels)\n",
    "#         self.img_list = self.dataframe[\"image_names\"].tolist()\n",
    "        \n",
    "#     def on_epoch_end(self):\n",
    "#         self.indexes = np.arange(self.img_list)\n",
    "#         if self.mode == \"train\":\n",
    "#             self.indexes = random.sample(self.indexes, k = len(self.indexes))\n",
    "    \n",
    "#     def __len__(self):\n",
    "#         return(self.dataframe.shape[0]//self.batch_size)\n",
    "    \n",
    "#     def get_batch_features(self, idx):\n",
    "#         # img_name_list = [im for im in self.img_list[idx * self.batch_size : (1+idx) * self.batch_size]] \n",
    "#         # print(\"image_name_list -----\",img_name_list,\"\\n\\n\\n\\n\\n\")\n",
    "#         # images = [self.get_image(i) for i in img_name_list]\n",
    "#         # return(np.array(images))\n",
    "#         return(self.np.array([self.cv2.imread(self.folder_path+im) for im in self.img_list[idx * self.batch_size : (1+idx) * self.batch_size]]))\n",
    "    \n",
    "#     def get_batch_labels(self,idx):\n",
    "#         return(self.np.array(self.labels[idx * self.batch_size : (1+idx) * self.batch_size]))\n",
    "    \n",
    "#     def get_image(self,img_name):\n",
    "#         print(\"folder path -----\",self.folder_path,\"\\n\\n\\n\\n\\n\")\n",
    "#         print(\"image name ------\",img_name,\"\\n\\n\\n\\n\\n\")\n",
    "#         img = self.cv2.imread(self.join(self.folder_path,img_name))\n",
    "#         img = self.cv2.cvtColor(img, self.cv2.COLOR_BGR2RGB) \n",
    "#         img = img/255.0\n",
    "#         return img\n",
    "        \n",
    "#     def __getitem__(self, idx):\n",
    "#         batch_X = self.get_batch_features(idx)\n",
    "#         batch_Y = self.get_batch_labels(idx)\n",
    "#         return(batch_X,batch_Y)"
   ]
  },
  {
   "cell_type": "code",
   "execution_count": 6,
   "metadata": {},
   "outputs": [],
   "source": [
    "from skimage.io import imread\n",
    "from skimage.transform import resize\n",
    "import numpy as np\n",
    "import math\n",
    "\n",
    "# Here, `x_set` is list of path to the images\n",
    "# and `y_set` are the associated classes.\n",
    "\n",
    "class DataGenerator(Sequence):\n",
    "\n",
    "    def __init__(self, dataframe, image_path, batch_size = 32, mode = \"train\"):\n",
    "        self.dataframe = dataframe\n",
    "        self.batch_size = batch_size\n",
    "        self.mode = mode\n",
    "        self.folder_path = image_path\n",
    "        self.labels = self.dataframe[\"emergency_or_not\"].values\n",
    "        self.img_list = self.dataframe[\"image_names\"].tolist()\n",
    "        # self.labels = to_categorical(self.labels)\n",
    "\n",
    "\n",
    "    def __len__(self):\n",
    "        return math.ceil(self.dataframe.shape[0]/self.batch_size)\n",
    "\n",
    "    def read(self,file_name):\n",
    "        return resize(imread(self.folder_path+file_name), (224, 224))\n",
    "\n",
    "    def __getitem__(self, idx):\n",
    "        batch_x = self.img_list[idx * self.batch_size:(idx + 1) * self.batch_size]\n",
    "        batch_y = self.labels[idx * self.batch_size:(idx + 1) * self.batch_size]\n",
    "\n",
    "        return np.array([self.read(file_name) for file_name in batch_x]), np.array(batch_y)"
   ]
  },
  {
   "cell_type": "code",
   "execution_count": 15,
   "metadata": {},
   "outputs": [],
   "source": [
    "labels = df[\"emergency_or_not\"].values"
   ]
  },
  {
   "cell_type": "code",
   "execution_count": 17,
   "metadata": {},
   "outputs": [
    {
     "data": {
      "text/plain": [
       "array([[1., 0.],\n",
       "       [1., 0.],\n",
       "       [1., 0.],\n",
       "       ...,\n",
       "       [1., 0.],\n",
       "       [1., 0.],\n",
       "       [0., 1.]], dtype=float32)"
      ]
     },
     "execution_count": 17,
     "metadata": {},
     "output_type": "execute_result"
    }
   ],
   "source": [
    "to_categorical(labels)"
   ]
  },
  {
   "cell_type": "code",
   "execution_count": null,
   "metadata": {},
   "outputs": [],
   "source": []
  },
  {
   "cell_type": "code",
   "execution_count": null,
   "metadata": {},
   "outputs": [],
   "source": []
  },
  {
   "cell_type": "code",
   "execution_count": null,
   "metadata": {},
   "outputs": [],
   "source": []
  },
  {
   "cell_type": "code",
   "execution_count": 7,
   "metadata": {},
   "outputs": [],
   "source": [
    "import pandas as pd\n",
    "df = pd.read_csv(\"data/ana_vid_vehicle_classification/train.csv\")"
   ]
  },
  {
   "cell_type": "code",
   "execution_count": 8,
   "metadata": {},
   "outputs": [
    {
     "data": {
      "text/plain": [
       "1646"
      ]
     },
     "execution_count": 8,
     "metadata": {},
     "output_type": "execute_result"
    }
   ],
   "source": [
    "df.shape[0]"
   ]
  },
  {
   "cell_type": "code",
   "execution_count": 9,
   "metadata": {},
   "outputs": [],
   "source": [
    "from sklearn.model_selection import train_test_split\n",
    "train, val = train_test_split(df, test_size=0.2)"
   ]
  },
  {
   "cell_type": "code",
   "execution_count": null,
   "metadata": {},
   "outputs": [],
   "source": []
  },
  {
   "cell_type": "code",
   "execution_count": 10,
   "metadata": {},
   "outputs": [],
   "source": [
    "train_generator = DataGenerator(train, \"data/ana_vid_vehicle_classification/images/\")\n",
    "val_generator = DataGenerator(val, \"data/ana_vid_vehicle_classification/images/\")"
   ]
  },
  {
   "cell_type": "code",
   "execution_count": 11,
   "metadata": {
    "colab": {},
    "colab_type": "code",
    "id": "-IHPn58Brsho"
   },
   "outputs": [],
   "source": [
    "opt = Adam(lr = 0.01)\n",
    "model.compile(optimizer=opt, loss='binary_crossentropy', metrics=['accuracy'])\n",
    "learning_rate_reduction = ReduceLROnPlateau(monitor='val_accuracy', \n",
    "                                            patience=3, \n",
    "                                            verbose=1, \n",
    "                                            factor=0.5, \n",
    "                                            min_lr=0.00001)\n",
    "early_stopping = EarlyStopping(monitor='val_accuracy', min_delta=0, patience=10, verbose=1, mode='auto')"
   ]
  },
  {
   "cell_type": "code",
   "execution_count": 12,
   "metadata": {
    "colab": {},
    "colab_type": "code",
    "id": "_3zk92lJrshv"
   },
   "outputs": [],
   "source": [
    "epochs = 2"
   ]
  },
  {
   "cell_type": "code",
   "execution_count": 13,
   "metadata": {
    "colab": {
     "base_uri": "https://localhost:8080/",
     "height": 1000
    },
    "colab_type": "code",
    "id": "s4_NjIfXrsh0",
    "outputId": "8f701ba9-5916-48ea-ca00-03b08314197a"
   },
   "outputs": [
    {
     "name": "stdout",
     "output_type": "stream",
     "text": [
      "WARNING:tensorflow:From e:\\privateprojects\\others\\venv\\lib\\site-packages\\tensorflow_core\\python\\ops\\math_grad.py:1424: where (from tensorflow.python.ops.array_ops) is deprecated and will be removed in a future version.\n",
      "Instructions for updating:\n",
      "Use tf.where in 2.0, which has the same broadcast rule as np.where\n",
      "WARNING:tensorflow:From e:\\privateprojects\\others\\venv\\lib\\site-packages\\keras\\backend\\tensorflow_backend.py:422: The name tf.global_variables is deprecated. Please use tf.compat.v1.global_variables instead.\n",
      "\n",
      "Epoch 1/2\n",
      "4/4 [==============================] - 31s 8s/step - loss: 8.0078 - accuracy: 0.4200 - val_loss: 9.1495 - val_accuracy: 0.4333\n",
      "Epoch 2/2\n",
      "4/4 [==============================] - 33s 8s/step - loss: 10.1822 - accuracy: 0.3359 - val_loss: 9.1495 - val_accuracy: 0.4333\n"
     ]
    }
   ],
   "source": [
    "history = model.fit_generator(train_generator, epochs=epochs, steps_per_epoch = 4, validation_data=val_generator, verbose = 1, callbacks=[learning_rate_reduction, early_stopping])"
   ]
  },
  {
   "cell_type": "code",
   "execution_count": 14,
   "metadata": {
    "colab": {
     "base_uri": "https://localhost:8080/",
     "height": 374
    },
    "colab_type": "code",
    "id": "6Ul_qecfrsh3",
    "outputId": "35e08464-335a-4413-bf3f-5b7cb00dd859"
   },
   "outputs": [
    {
     "data": {
      "image/png": "[encoded data removed]",
      "text/plain": [
       "<Figure size 576x432 with 2 Axes>"
      ]
     },
     "metadata": {
      "needs_background": "light"
     },
     "output_type": "display_data"
    }
   ],
   "source": [
    "import matplotlib.pyplot as plt\n",
    "%matplotlib inline\n",
    "from matplotlib import rcParams\n",
    "\n",
    "fig, ax = plt.subplots(2,1, figsize=(8, 6))\n",
    "ax[0].plot(history.history['loss'], color='b', label=\"Training loss\")\n",
    "ax[0].plot(history.history['val_loss'], color='r', label=\"validation loss\",axes =ax[0])\n",
    "legend = ax[0].legend(loc='best', shadow=True)\n",
    "\n",
    "ax[1].plot(history.history['accuracy'], color='b', label=\"Training accuracy\")\n",
    "ax[1].plot(history.history['val_accuracy'], color='r',label=\"Validation accuracy\")\n",
    "legend = ax[1].legend(loc='best', shadow=True)"
   ]
  },
  {
   "cell_type": "code",
   "execution_count": null,
   "metadata": {
    "colab": {},
    "colab_type": "code",
    "id": "EJap2Nm9xRy9"
   },
   "outputs": [],
   "source": []
  }
 ],
 "metadata": {
  "accelerator": "GPU",
  "colab": {
   "collapsed_sections": [],
   "name": "Copy of transfer_leraning_trial.ipynb",
   "provenance": []
  },
  "kernelspec": {
   "display_name": "Python 3",
   "language": "python",
   "name": "python3"
  },
  "language_info": {
   "codemirror_mode": {
    "name": "ipython",
    "version": 3
   },
   "file_extension": ".py",
   "mimetype": "text/x-python",
   "name": "python",
   "nbconvert_exporter": "python",
   "pygments_lexer": "ipython3",
   "version": "3.6.7"
  }
 },
 "nbformat": 4,
 "nbformat_minor": 4
}
