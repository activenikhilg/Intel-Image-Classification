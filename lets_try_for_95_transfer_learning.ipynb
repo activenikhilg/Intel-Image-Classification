{
 "cells": [
  {
   "cell_type": "code",
   "execution_count": null,
   "metadata": {
    "colab": {
     "base_uri": "https://localhost:8080/",
     "height": 34
    },
    "colab_type": "code",
    "id": "NYM46_S8r82v",
    "outputId": "514d48bf-ba2e-4c76-e712-6ea423928760"
   },
   "outputs": [],
   "source": [
    "from google.colab import drive\n",
    "drive.mount('/content/drive')"
   ]
  },
  {
   "cell_type": "code",
   "execution_count": null,
   "metadata": {
    "colab": {
     "base_uri": "https://localhost:8080/",
     "height": 34
    },
    "colab_type": "code",
    "id": "Pl9UeEACsH7d",
    "outputId": "2c7a4826-e5f4-4ba0-f379-15714cd4845a"
   },
   "outputs": [],
   "source": [
    "! mkdir \"/content/data/\"\n",
    "! cp \"/content/drive/My Drive/Colab Notebooks/data/kaggle/intel-image-classification.zip\" \"/content/data/\""
   ]
  },
  {
   "cell_type": "code",
   "execution_count": null,
   "metadata": {
    "colab": {
     "base_uri": "https://localhost:8080/",
     "height": 1000
    },
    "colab_type": "code",
    "id": "NXvIJd-psZ4X",
    "outputId": "1c857141-7646-4624-8d3e-cde292edac33"
   },
   "outputs": [],
   "source": [
    "! unzip \"/content/data/intel-image-classification.zip\" -d \"/content/data/\""
   ]
  },
  {
   "cell_type": "code",
   "execution_count": null,
   "metadata": {
    "colab": {
     "base_uri": "https://localhost:8080/",
     "height": 339
    },
    "colab_type": "code",
    "id": "NIWTQ52Kukh8",
    "outputId": "afd6f654-60e2-4901-92d5-b724e98837ed"
   },
   "outputs": [],
   "source": [
    "! pip install -U albumentations"
   ]
  },
  {
   "cell_type": "code",
   "execution_count": null,
   "metadata": {
    "colab": {},
    "colab_type": "code",
    "id": "v5-ygSj-rT30"
   },
   "outputs": [],
   "source": [
    "from keras.preprocessing.image import ImageDataGenerator\n",
    "from keras.applications.vgg16 import VGG16\n",
    "from keras.models import Sequential, Model\n",
    "from keras.layers import Dense, Dropout, Flatten, BatchNormalization\n",
    "from keras.callbacks import ReduceLROnPlateau, EarlyStopping\n",
    "from keras.optimizers import Adam\n",
    "\n",
    "from albumentations import (Blur, MotionBlur, MedianBlur, GaussianBlur, GaussNoise, RandomGamma,\n",
    "                            HorizontalFlip, ShiftScaleRotate, RandomBrightnessContrast, JpegCompression, \n",
    "                            RandomShadow, ISONoise, Equalize, FancyPCA, CLAHE, OneOf, Compose)"
   ]
  },
  {
   "cell_type": "code",
   "execution_count": 22,
   "metadata": {
    "colab": {
     "base_uri": "https://localhost:8080/",
     "height": 50
    },
    "colab_type": "code",
    "id": "ndkwG86grshs",
    "outputId": "14be1c4b-fd24-4510-f7b9-867304721db4"
   },
   "outputs": [
    {
     "name": "stdout",
     "output_type": "stream",
     "text": [
      "Found 14034 images belonging to 6 classes.\n",
      "Found 3000 images belonging to 6 classes.\n"
     ]
    }
   ],
   "source": [
    "def aug_image(image):\n",
    "    p = 0.2\n",
    "    aug = Compose([\n",
    "                   OneOf([\n",
    "                          Blur(p=p, blur_limit= (2,2)),\n",
    "                          MotionBlur(blur_limit=3,p = p),\n",
    "                          MedianBlur(blur_limit=3,p = p),\n",
    "                          GaussianBlur(blur_limit=3,p = p),\n",
    "                          GaussNoise(p = p),\n",
    "                          RandomGamma(p = p)\n",
    "                   ],p = p),\n",
    "                   HorizontalFlip(p=p),\n",
    "                   ShiftScaleRotate(shift_limit=0.06, scale_limit=0.2, rotate_limit=15, border_mode = 4, p=p),\n",
    "                   RandomBrightnessContrast(p=p),\n",
    "                   RandomShadow(p = p, num_shadows_lower=1, num_shadows_upper=3, shadow_dimension=4)\n",
    "    ],p=p)\n",
    "    image = aug(image = image)['image']\n",
    "    return image\n",
    "imagegen = ImageDataGenerator(preprocessing_function=aug_image,rescale=1./255)\n",
    "imagegen_ = ImageDataGenerator(preprocessing_function=None,rescale=1./255)\n",
    "train = imagegen.flow_from_directory(\"data/seg_train/seg_train\",target_size=(150,150),batch_size=128)\n",
    "val = imagegen_.flow_from_directory(\"data/seg_test/seg_test\",target_size=(150,150),batch_size=128)"
   ]
  },
  {
   "cell_type": "code",
   "execution_count": 23,
   "metadata": {
    "colab": {
     "base_uri": "https://localhost:8080/",
     "height": 1000
    },
    "colab_type": "code",
    "id": "fwU0ekQwHDdC",
    "outputId": "65adf4f2-b9e8-46a5-bec9-fc42e56e1280"
   },
   "outputs": [
    {
     "name": "stdout",
     "output_type": "stream",
     "text": [
      "Model: \"model_5\"\n",
      "_________________________________________________________________\n",
      "Layer (type)                 Output Shape              Param #   \n",
      "=================================================================\n",
      "input_5 (InputLayer)         (None, 150, 150, 3)       0         \n",
      "_________________________________________________________________\n",
      "block1_conv1 (Conv2D)        (None, 150, 150, 64)      1792      \n",
      "_________________________________________________________________\n",
      "block1_conv2 (Conv2D)        (None, 150, 150, 64)      36928     \n",
      "_________________________________________________________________\n",
      "block1_pool (MaxPooling2D)   (None, 75, 75, 64)        0         \n",
      "_________________________________________________________________\n",
      "block2_conv1 (Conv2D)        (None, 75, 75, 128)       73856     \n",
      "_________________________________________________________________\n",
      "block2_conv2 (Conv2D)        (None, 75, 75, 128)       147584    \n",
      "_________________________________________________________________\n",
      "block2_pool (MaxPooling2D)   (None, 37, 37, 128)       0         \n",
      "_________________________________________________________________\n",
      "block3_conv1 (Conv2D)        (None, 37, 37, 256)       295168    \n",
      "_________________________________________________________________\n",
      "block3_conv2 (Conv2D)        (None, 37, 37, 256)       590080    \n",
      "_________________________________________________________________\n",
      "block3_conv3 (Conv2D)        (None, 37, 37, 256)       590080    \n",
      "_________________________________________________________________\n",
      "block3_pool (MaxPooling2D)   (None, 18, 18, 256)       0         \n",
      "_________________________________________________________________\n",
      "block4_conv1 (Conv2D)        (None, 18, 18, 512)       1180160   \n",
      "_________________________________________________________________\n",
      "block4_conv2 (Conv2D)        (None, 18, 18, 512)       2359808   \n",
      "_________________________________________________________________\n",
      "block4_conv3 (Conv2D)        (None, 18, 18, 512)       2359808   \n",
      "_________________________________________________________________\n",
      "block4_pool (MaxPooling2D)   (None, 9, 9, 512)         0         \n",
      "_________________________________________________________________\n",
      "block5_conv1 (Conv2D)        (None, 9, 9, 512)         2359808   \n",
      "_________________________________________________________________\n",
      "block5_conv2 (Conv2D)        (None, 9, 9, 512)         2359808   \n",
      "_________________________________________________________________\n",
      "block5_conv3 (Conv2D)        (None, 9, 9, 512)         2359808   \n",
      "_________________________________________________________________\n",
      "block5_pool (MaxPooling2D)   (None, 4, 4, 512)         0         \n",
      "_________________________________________________________________\n",
      "flatten_5 (Flatten)          (None, 8192)              0         \n",
      "_________________________________________________________________\n",
      "batch_normalization_5 (Batch (None, 8192)              32768     \n",
      "_________________________________________________________________\n",
      "dense_16 (Dense)             (None, 4096)              33558528  \n",
      "_________________________________________________________________\n",
      "dense_17 (Dense)             (None, 4096)              16781312  \n",
      "_________________________________________________________________\n",
      "dropout_5 (Dropout)          (None, 4096)              0         \n",
      "_________________________________________________________________\n",
      "dense_18 (Dense)             (None, 256)               1048832   \n",
      "_________________________________________________________________\n",
      "dense_19 (Dense)             (None, 6)                 1542      \n",
      "=================================================================\n",
      "Total params: 66,137,670\n",
      "Trainable params: 51,406,598\n",
      "Non-trainable params: 14,731,072\n",
      "_________________________________________________________________\n"
     ]
    }
   ],
   "source": [
    "model = VGG16(include_top=False, input_shape=(150,150, 3))\n",
    "for layer in model.layers:\n",
    "\tlayer.trainable = False\n",
    "\n",
    "x = Flatten()(model.output)\n",
    "x = BatchNormalization()(x)\n",
    "x = Dense(4096, activation='relu')(x)\n",
    "x = Dense(4096, activation='relu')(x)\n",
    "x = Dropout(0.2)(x)\n",
    "x = Dense(256, activation = 'relu')(x)\n",
    "x = Dense(6, activation='softmax')(x)\n",
    "\n",
    "model = Model(inputs=model.inputs, outputs=x)\n",
    "\n",
    "# model.get_layer('block5_conv1').trainable = True\n",
    "# model.get_layer('block5_conv2').trainable = True\n",
    "# model.get_layer('block5_conv3').trainable = True\n",
    "\n",
    "model.summary()"
   ]
  },
  {
   "cell_type": "code",
   "execution_count": null,
   "metadata": {
    "colab": {},
    "colab_type": "code",
    "id": "-IHPn58Brsho"
   },
   "outputs": [],
   "source": [
    "opt = Adam(lr = 0.01)\n",
    "model.compile(optimizer=opt, loss='categorical_crossentropy', metrics=['accuracy'])\n",
    "learning_rate_reduction = ReduceLROnPlateau(monitor='val_accuracy', \n",
    "                                            patience=3, \n",
    "                                            verbose=1, \n",
    "                                            factor=0.5, \n",
    "                                            min_lr=0.00001)\n",
    "early_stopping = EarlyStopping(monitor='val_accuracy', min_delta=0, patience=10, verbose=1, mode='auto')"
   ]
  },
  {
   "cell_type": "code",
   "execution_count": null,
   "metadata": {
    "colab": {},
    "colab_type": "code",
    "id": "_3zk92lJrshv"
   },
   "outputs": [],
   "source": [
    "epochs = 64"
   ]
  },
  {
   "cell_type": "code",
   "execution_count": 26,
   "metadata": {
    "colab": {
     "base_uri": "https://localhost:8080/",
     "height": 1000
    },
    "colab_type": "code",
    "id": "s4_NjIfXrsh0",
    "outputId": "8f701ba9-5916-48ea-ca00-03b08314197a"
   },
   "outputs": [
    {
     "name": "stdout",
     "output_type": "stream",
     "text": [
      "Epoch 1/64\n",
      "100/100 [==============================] - 74s 739ms/step - loss: 63.0223 - accuracy: 0.5159 - val_loss: 1.1229 - val_accuracy: 0.6093\n",
      "Epoch 2/64\n",
      "100/100 [==============================] - 73s 729ms/step - loss: 1.0310 - accuracy: 0.6217 - val_loss: 0.7982 - val_accuracy: 0.7080\n",
      "Epoch 3/64\n",
      "100/100 [==============================] - 73s 729ms/step - loss: 1.2591 - accuracy: 0.5493 - val_loss: 1.0648 - val_accuracy: 0.5657\n",
      "Epoch 4/64\n",
      "100/100 [==============================] - 73s 729ms/step - loss: 1.2661 - accuracy: 0.5343 - val_loss: 0.8967 - val_accuracy: 0.5680\n",
      "Epoch 5/64\n",
      "100/100 [==============================] - 73s 728ms/step - loss: 1.0793 - accuracy: 0.6061 - val_loss: 0.9530 - val_accuracy: 0.6797\n",
      "\n",
      "Epoch 00005: ReduceLROnPlateau reducing learning rate to 0.004999999888241291.\n",
      "Epoch 6/64\n",
      "100/100 [==============================] - 73s 731ms/step - loss: 0.9275 - accuracy: 0.6356 - val_loss: 0.5514 - val_accuracy: 0.7110\n",
      "Epoch 7/64\n",
      "100/100 [==============================] - 73s 727ms/step - loss: 0.8118 - accuracy: 0.6822 - val_loss: 0.6901 - val_accuracy: 0.7223\n",
      "Epoch 8/64\n",
      "100/100 [==============================] - 73s 729ms/step - loss: 0.7721 - accuracy: 0.6932 - val_loss: 0.9629 - val_accuracy: 0.7197\n",
      "Epoch 9/64\n",
      "100/100 [==============================] - 73s 729ms/step - loss: 0.7608 - accuracy: 0.7070 - val_loss: 0.5072 - val_accuracy: 0.7250\n",
      "Epoch 10/64\n",
      "100/100 [==============================] - 73s 730ms/step - loss: 0.6996 - accuracy: 0.7185 - val_loss: 0.6673 - val_accuracy: 0.7630\n",
      "Epoch 11/64\n",
      "100/100 [==============================] - 73s 728ms/step - loss: 0.6621 - accuracy: 0.7475 - val_loss: 0.7992 - val_accuracy: 0.7143\n",
      "Epoch 12/64\n",
      "100/100 [==============================] - 73s 728ms/step - loss: 0.6746 - accuracy: 0.7273 - val_loss: 0.6018 - val_accuracy: 0.7473\n",
      "Epoch 13/64\n",
      "100/100 [==============================] - 73s 729ms/step - loss: 0.6188 - accuracy: 0.7454 - val_loss: 1.8704 - val_accuracy: 0.7667\n",
      "Epoch 14/64\n",
      "100/100 [==============================] - 73s 731ms/step - loss: 0.6021 - accuracy: 0.7565 - val_loss: 0.8233 - val_accuracy: 0.7333\n",
      "Epoch 15/64\n",
      "100/100 [==============================] - 73s 729ms/step - loss: 0.5901 - accuracy: 0.7456 - val_loss: 0.2910 - val_accuracy: 0.7437\n",
      "Epoch 16/64\n",
      "100/100 [==============================] - 73s 727ms/step - loss: 0.5653 - accuracy: 0.7717 - val_loss: 0.8978 - val_accuracy: 0.7643\n",
      "\n",
      "Epoch 00016: ReduceLROnPlateau reducing learning rate to 0.0024999999441206455.\n",
      "Epoch 17/64\n",
      "100/100 [==============================] - 73s 729ms/step - loss: 0.5452 - accuracy: 0.7686 - val_loss: 0.7456 - val_accuracy: 0.7637\n",
      "Epoch 18/64\n",
      "100/100 [==============================] - 73s 730ms/step - loss: 0.5272 - accuracy: 0.7815 - val_loss: 0.5058 - val_accuracy: 0.7437\n",
      "Epoch 19/64\n",
      "100/100 [==============================] - 73s 727ms/step - loss: 0.4960 - accuracy: 0.7823 - val_loss: 0.7016 - val_accuracy: 0.7737\n",
      "Epoch 20/64\n",
      "100/100 [==============================] - 73s 730ms/step - loss: 0.5131 - accuracy: 0.8017 - val_loss: 1.5984 - val_accuracy: 0.7723\n",
      "Epoch 21/64\n",
      "100/100 [==============================] - 73s 729ms/step - loss: 0.4937 - accuracy: 0.8088 - val_loss: 0.5435 - val_accuracy: 0.7680\n",
      "Epoch 22/64\n",
      "100/100 [==============================] - 73s 729ms/step - loss: 0.4772 - accuracy: 0.8085 - val_loss: 0.5449 - val_accuracy: 0.7980\n",
      "Epoch 23/64\n",
      "100/100 [==============================] - 73s 729ms/step - loss: 0.4555 - accuracy: 0.8206 - val_loss: 0.6748 - val_accuracy: 0.8160\n",
      "Epoch 24/64\n",
      "100/100 [==============================] - 73s 729ms/step - loss: 0.4312 - accuracy: 0.8456 - val_loss: 1.0306 - val_accuracy: 0.8253\n",
      "Epoch 25/64\n",
      "100/100 [==============================] - 73s 729ms/step - loss: 0.3779 - accuracy: 0.8698 - val_loss: 1.2678 - val_accuracy: 0.8430\n",
      "Epoch 26/64\n",
      "100/100 [==============================] - 73s 727ms/step - loss: 0.4167 - accuracy: 0.8631 - val_loss: 0.4517 - val_accuracy: 0.8350\n",
      "Epoch 27/64\n",
      "100/100 [==============================] - 73s 729ms/step - loss: 0.3642 - accuracy: 0.8867 - val_loss: 0.3141 - val_accuracy: 0.8667\n",
      "Epoch 28/64\n",
      "100/100 [==============================] - 73s 729ms/step - loss: 0.3587 - accuracy: 0.8770 - val_loss: 1.1628 - val_accuracy: 0.8510\n",
      "Epoch 29/64\n",
      "100/100 [==============================] - 73s 729ms/step - loss: 0.3527 - accuracy: 0.8850 - val_loss: 0.8630 - val_accuracy: 0.8413\n",
      "Epoch 30/64\n",
      "100/100 [==============================] - 73s 727ms/step - loss: 0.3180 - accuracy: 0.8948 - val_loss: 0.7498 - val_accuracy: 0.8577\n",
      "\n",
      "Epoch 00030: ReduceLROnPlateau reducing learning rate to 0.0012499999720603228.\n",
      "Epoch 31/64\n",
      "100/100 [==============================] - 73s 726ms/step - loss: 0.3194 - accuracy: 0.8878 - val_loss: 0.7820 - val_accuracy: 0.8650\n",
      "Epoch 32/64\n",
      "100/100 [==============================] - 73s 730ms/step - loss: 0.2902 - accuracy: 0.8986 - val_loss: 0.8329 - val_accuracy: 0.8667\n",
      "Epoch 33/64\n",
      "100/100 [==============================] - 73s 730ms/step - loss: 0.2908 - accuracy: 0.9045 - val_loss: 0.3146 - val_accuracy: 0.8667\n",
      "\n",
      "Epoch 00033: ReduceLROnPlateau reducing learning rate to 0.0006249999860301614.\n",
      "Epoch 34/64\n",
      "100/100 [==============================] - 73s 735ms/step - loss: 0.2525 - accuracy: 0.9116 - val_loss: 0.8094 - val_accuracy: 0.8770\n",
      "Epoch 35/64\n",
      "100/100 [==============================] - 73s 733ms/step - loss: 0.2348 - accuracy: 0.9128 - val_loss: 0.7860 - val_accuracy: 0.8767\n",
      "Epoch 36/64\n",
      "100/100 [==============================] - 74s 738ms/step - loss: 0.2363 - accuracy: 0.9117 - val_loss: 0.1377 - val_accuracy: 0.8800\n",
      "Epoch 37/64\n",
      "100/100 [==============================] - 73s 734ms/step - loss: 0.2165 - accuracy: 0.9191 - val_loss: 0.6070 - val_accuracy: 0.8767\n",
      "Epoch 38/64\n",
      "100/100 [==============================] - 73s 735ms/step - loss: 0.2147 - accuracy: 0.9169 - val_loss: 0.3409 - val_accuracy: 0.8767\n",
      "Epoch 39/64\n",
      "100/100 [==============================] - 74s 737ms/step - loss: 0.2080 - accuracy: 0.9209 - val_loss: 1.1300 - val_accuracy: 0.8797\n",
      "\n",
      "Epoch 00039: ReduceLROnPlateau reducing learning rate to 0.0003124999930150807.\n",
      "Epoch 40/64\n",
      "100/100 [==============================] - 74s 737ms/step - loss: 0.2122 - accuracy: 0.9174 - val_loss: 1.3090 - val_accuracy: 0.8797\n",
      "Epoch 41/64\n",
      "100/100 [==============================] - 74s 736ms/step - loss: 0.2020 - accuracy: 0.9213 - val_loss: 0.7093 - val_accuracy: 0.8790\n",
      "Epoch 42/64\n",
      "100/100 [==============================] - 74s 735ms/step - loss: 0.2081 - accuracy: 0.9174 - val_loss: 0.4355 - val_accuracy: 0.8780\n",
      "\n",
      "Epoch 00042: ReduceLROnPlateau reducing learning rate to 0.00015624999650754035.\n",
      "Epoch 43/64\n",
      "100/100 [==============================] - 74s 736ms/step - loss: 0.2158 - accuracy: 0.9159 - val_loss: 0.9131 - val_accuracy: 0.8773\n",
      "Epoch 44/64\n",
      "100/100 [==============================] - 74s 735ms/step - loss: 0.2122 - accuracy: 0.9191 - val_loss: 0.1078 - val_accuracy: 0.8780\n",
      "Epoch 45/64\n",
      "100/100 [==============================] - 74s 736ms/step - loss: 0.2062 - accuracy: 0.9170 - val_loss: 0.9797 - val_accuracy: 0.8793\n",
      "\n",
      "Epoch 00045: ReduceLROnPlateau reducing learning rate to 7.812499825377017e-05.\n",
      "Epoch 46/64\n",
      "100/100 [==============================] - 74s 737ms/step - loss: 0.2092 - accuracy: 0.9168 - val_loss: 0.1971 - val_accuracy: 0.8777\n",
      "Epoch 00046: early stopping\n"
     ]
    }
   ],
   "source": [
    "history = model.fit_generator(train, epochs=epochs, steps_per_epoch = 100, validation_data=val, verbose = 1, callbacks=[learning_rate_reduction, early_stopping])"
   ]
  },
  {
   "cell_type": "code",
   "execution_count": 27,
   "metadata": {
    "colab": {
     "base_uri": "https://localhost:8080/",
     "height": 374
    },
    "colab_type": "code",
    "id": "6Ul_qecfrsh3",
    "outputId": "35e08464-335a-4413-bf3f-5b7cb00dd859"
   },
   "outputs": [
    {
     "data": {
      "image/png": "[encoded data removed]",
      "text/plain": [
       "<Figure size 576x432 with 2 Axes>"
      ]
     },
     "metadata": {
      "needs_background": "light",
      "tags": []
     },
     "output_type": "display_data"
    }
   ],
   "source": [
    "import matplotlib.pyplot as plt\n",
    "%matplotlib inline\n",
    "from matplotlib import rcParams\n",
    "\n",
    "fig, ax = plt.subplots(2,1, figsize=(8, 6))\n",
    "ax[0].plot(history.history['loss'], color='b', label=\"Training loss\")\n",
    "ax[0].plot(history.history['val_loss'], color='r', label=\"validation loss\",axes =ax[0])\n",
    "legend = ax[0].legend(loc='best', shadow=True)\n",
    "\n",
    "ax[1].plot(history.history['accuracy'], color='b', label=\"Training accuracy\")\n",
    "ax[1].plot(history.history['val_accuracy'], color='r',label=\"Validation accuracy\")\n",
    "legend = ax[1].legend(loc='best', shadow=True)"
   ]
  },
  {
   "cell_type": "code",
   "execution_count": null,
   "metadata": {
    "colab": {},
    "colab_type": "code",
    "id": "EJap2Nm9xRy9"
   },
   "outputs": [],
   "source": []
  }
 ],
 "metadata": {
  "accelerator": "GPU",
  "colab": {
   "collapsed_sections": [],
   "name": "Copy of transfer_leraning_trial.ipynb",
   "provenance": []
  },
  "kernelspec": {
   "display_name": "Python 3",
   "language": "python",
   "name": "python3"
  },
  "language_info": {
   "codemirror_mode": {
    "name": "ipython",
    "version": 3
   },
   "file_extension": ".py",
   "mimetype": "text/x-python",
   "name": "python",
   "nbconvert_exporter": "python",
   "pygments_lexer": "ipython3",
   "version": "3.6.7"
  }
 },
 "nbformat": 4,
 "nbformat_minor": 4
}
