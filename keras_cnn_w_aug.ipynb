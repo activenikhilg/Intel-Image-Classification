{
  "nbformat": 4,
  "nbformat_minor": 0,
  "metadata": {
    "kernelspec": {
      "display_name": "Python 3",
      "language": "python",
      "name": "python3"
    },
    "language_info": {
      "codemirror_mode": {
        "name": "ipython",
        "version": 3
      },
      "file_extension": ".py",
      "mimetype": "text/x-python",
      "name": "python",
      "nbconvert_exporter": "python",
      "pygments_lexer": "ipython3",
      "version": "3.6.7"
    },
    "colab": {
      "name": "keras_cnn_w_aug.ipynb",
      "provenance": []
    },
    "accelerator": "GPU"
  },
  "cells": [
    {
      "cell_type": "code",
      "metadata": {
        "id": "5tZn-T0ryEwM",
        "colab_type": "code",
        "colab": {}
      },
      "source": [
        "from google.colab import drive\n",
        "drive.mount('/content/drive')"
      ],
      "execution_count": 0,
      "outputs": []
    },
    {
      "cell_type": "code",
      "metadata": {
        "id": "3THa4aGByOLo",
        "colab_type": "code",
        "colab": {}
      },
      "source": [
        "! cp -r \"/content/drive/My Drive/Colab Notebooks/data/kaggle/intel-image-classification.zip\" \"/content/data\""
      ],
      "execution_count": 0,
      "outputs": []
    },
    {
      "cell_type": "code",
      "metadata": {
        "id": "iv_HE-lbyrf4",
        "colab_type": "code",
        "colab": {}
      },
      "source": [
        "! unzip \"/content/data/intel-image-classification.zip\" -d \"/content/data/\""
      ],
      "execution_count": 0,
      "outputs": []
    },
    {
      "cell_type": "code",
      "metadata": {
        "id": "l8s-k17ax3UB",
        "colab_type": "code",
        "colab": {
          "base_uri": "https://localhost:8080/",
          "height": 34
        },
        "outputId": "1603bb0a-fa8b-424b-fbc6-11c4c6f97be7"
      },
      "source": [
        "from keras.preprocessing.image import ImageDataGenerator"
      ],
      "execution_count": 4,
      "outputs": [
        {
          "output_type": "stream",
          "text": [
            "Using TensorFlow backend.\n"
          ],
          "name": "stderr"
        }
      ]
    },
    {
      "cell_type": "code",
      "metadata": {
        "id": "1zF-KP7sx3UH",
        "colab_type": "code",
        "colab": {}
      },
      "source": [
        "import numpy as np\n",
        "import cv2\n",
        "from matplotlib import pyplot as plt\n",
        "%matplotlib inline"
      ],
      "execution_count": 0,
      "outputs": []
    },
    {
      "cell_type": "code",
      "metadata": {
        "id": "WcXcwRLPx3UP",
        "colab_type": "code",
        "colab": {}
      },
      "source": [
        "from albumentations import *"
      ],
      "execution_count": 0,
      "outputs": []
    },
    {
      "cell_type": "code",
      "metadata": {
        "id": "3iyoExAJx3US",
        "colab_type": "code",
        "colab": {}
      },
      "source": [
        "def aug_image(image):\n",
        "    aug = Compose([\n",
        "        HorizontalFlip(p=0.5),\n",
        "        ShiftScaleRotate(shift_limit=0.06, scale_limit=0.2, rotate_limit=10, p=0.5),\n",
        "        RandomBrightnessContrast(p = 0.5)\n",
        "    ],p=0.5)\n",
        "    image = aug(image = image)['image']\n",
        "    return image"
      ],
      "execution_count": 0,
      "outputs": []
    },
    {
      "cell_type": "code",
      "metadata": {
        "id": "lJnGOxjPx3UU",
        "colab_type": "code",
        "colab": {}
      },
      "source": [
        "imagegen = ImageDataGenerator(preprocessing_function=aug_image,rescale=1./255)\n",
        "imagegen_ = ImageDataGenerator(preprocessing_function=None,rescale=1./255)"
      ],
      "execution_count": 0,
      "outputs": []
    },
    {
      "cell_type": "code",
      "metadata": {
        "id": "W1p96kS2x3UX",
        "colab_type": "code",
        "colab": {
          "base_uri": "https://localhost:8080/",
          "height": 50
        },
        "outputId": "b37b9e7d-d517-4def-a3b1-d5d0206a0690"
      },
      "source": [
        "train = imagegen.flow_from_directory(\"/content/data/seg_train/seg_train\",target_size=(150, 150),batch_size=256)\n",
        "val = imagegen_.flow_from_directory(\"/content/data/seg_test/seg_test\",target_size=(150, 150),batch_size=128)"
      ],
      "execution_count": 12,
      "outputs": [
        {
          "output_type": "stream",
          "text": [
            "Found 14034 images belonging to 6 classes.\n",
            "Found 3000 images belonging to 6 classes.\n"
          ],
          "name": "stdout"
        }
      ]
    },
    {
      "cell_type": "code",
      "metadata": {
        "id": "QwNvFgndx3Ub",
        "colab_type": "code",
        "colab": {
          "base_uri": "https://localhost:8080/",
          "height": 890
        },
        "outputId": "2f5ae1bf-b84a-4567-f7ee-0f5192dab3a9"
      },
      "source": [
        "from keras.models import Sequential\n",
        "from keras.layers import Conv2D, MaxPool2D, Flatten, Dense, InputLayer, BatchNormalization, Dropout\n",
        "\n",
        "\n",
        "model = Sequential()\n",
        "\n",
        "model.add(InputLayer(input_shape = (150,150,3)))\n",
        "\n",
        "model.add(Conv2D(32, kernel_size = (5,5), activation = 'relu', strides = (1,1), padding = 'same'))\n",
        "model.add(BatchNormalization())\n",
        "model.add(MaxPool2D(pool_size = (2,2)))\n",
        "model.add(Conv2D(32, kernel_size = (5,5), activation = 'relu', strides = (1,1), padding = 'same'))\n",
        "model.add(BatchNormalization())\n",
        "model.add(MaxPool2D(pool_size = (2,2)))\n",
        "model.add(Dropout(0.25))\n",
        "\n",
        "model.add(Conv2D(64, kernel_size = (3,3), activation = 'relu', strides = (1,1), padding = 'same'))\n",
        "model.add(BatchNormalization())\n",
        "model.add(MaxPool2D(pool_size = (2,2)))\n",
        "model.add(Conv2D(64, kernel_size = (3,3), activation = 'relu', strides = (1,1), padding = 'same'))\n",
        "model.add(BatchNormalization())\n",
        "model.add(MaxPool2D(pool_size = (2,2), strides=(2,2)))\n",
        "model.add(Dropout(0.25))\n",
        "\n",
        "model.add(Conv2D(filters = 128, kernel_size = (3,3), padding = \"same\", activation = \"relu\"))\n",
        "model.add(BatchNormalization())\n",
        "model.add(Dropout(0.25))\n",
        "\n",
        "\n",
        "model.add(Flatten())\n",
        "model.add(Dense(256, activation = \"relu\"))\n",
        "model.add(BatchNormalization())\n",
        "model.add(Dropout(0.20))\n",
        "model.add(Dense(6, activation = \"softmax\"))\n",
        "model.summary()"
      ],
      "execution_count": 13,
      "outputs": [
        {
          "output_type": "stream",
          "text": [
            "Model: \"sequential_1\"\n",
            "_________________________________________________________________\n",
            "Layer (type)                 Output Shape              Param #   \n",
            "=================================================================\n",
            "conv2d_1 (Conv2D)            (None, 150, 150, 32)      2432      \n",
            "_________________________________________________________________\n",
            "batch_normalization_1 (Batch (None, 150, 150, 32)      128       \n",
            "_________________________________________________________________\n",
            "max_pooling2d_1 (MaxPooling2 (None, 75, 75, 32)        0         \n",
            "_________________________________________________________________\n",
            "conv2d_2 (Conv2D)            (None, 75, 75, 32)        25632     \n",
            "_________________________________________________________________\n",
            "batch_normalization_2 (Batch (None, 75, 75, 32)        128       \n",
            "_________________________________________________________________\n",
            "max_pooling2d_2 (MaxPooling2 (None, 37, 37, 32)        0         \n",
            "_________________________________________________________________\n",
            "dropout_1 (Dropout)          (None, 37, 37, 32)        0         \n",
            "_________________________________________________________________\n",
            "conv2d_3 (Conv2D)            (None, 37, 37, 64)        18496     \n",
            "_________________________________________________________________\n",
            "batch_normalization_3 (Batch (None, 37, 37, 64)        256       \n",
            "_________________________________________________________________\n",
            "max_pooling2d_3 (MaxPooling2 (None, 18, 18, 64)        0         \n",
            "_________________________________________________________________\n",
            "conv2d_4 (Conv2D)            (None, 18, 18, 64)        36928     \n",
            "_________________________________________________________________\n",
            "batch_normalization_4 (Batch (None, 18, 18, 64)        256       \n",
            "_________________________________________________________________\n",
            "max_pooling2d_4 (MaxPooling2 (None, 9, 9, 64)          0         \n",
            "_________________________________________________________________\n",
            "dropout_2 (Dropout)          (None, 9, 9, 64)          0         \n",
            "_________________________________________________________________\n",
            "conv2d_5 (Conv2D)            (None, 9, 9, 128)         73856     \n",
            "_________________________________________________________________\n",
            "batch_normalization_5 (Batch (None, 9, 9, 128)         512       \n",
            "_________________________________________________________________\n",
            "dropout_3 (Dropout)          (None, 9, 9, 128)         0         \n",
            "_________________________________________________________________\n",
            "flatten_1 (Flatten)          (None, 10368)             0         \n",
            "_________________________________________________________________\n",
            "dense_1 (Dense)              (None, 256)               2654464   \n",
            "_________________________________________________________________\n",
            "batch_normalization_6 (Batch (None, 256)               1024      \n",
            "_________________________________________________________________\n",
            "dropout_4 (Dropout)          (None, 256)               0         \n",
            "_________________________________________________________________\n",
            "dense_2 (Dense)              (None, 6)                 1542      \n",
            "=================================================================\n",
            "Total params: 2,815,654\n",
            "Trainable params: 2,814,502\n",
            "Non-trainable params: 1,152\n",
            "_________________________________________________________________\n"
          ],
          "name": "stdout"
        }
      ]
    },
    {
      "cell_type": "code",
      "metadata": {
        "id": "yDt4W49rx3Uf",
        "colab_type": "code",
        "colab": {}
      },
      "source": [
        "from keras.optimizers import RMSprop\n",
        "from keras.callbacks import ReduceLROnPlateau\n",
        "\n",
        "optimizer = RMSprop(lr = 0.001, rho = 0.9, epsilon = 1e-08, decay = 0.0)\n",
        "model.compile(optimizer = optimizer, loss = \"categorical_crossentropy\", metrics = [\"accuracy\"])"
      ],
      "execution_count": 0,
      "outputs": []
    },
    {
      "cell_type": "code",
      "metadata": {
        "id": "eZZpCLkSx3Ul",
        "colab_type": "code",
        "colab": {}
      },
      "source": [
        "learning_rate_reduction = ReduceLROnPlateau(monitor='val_accuracy', \n",
        "                                            patience=3, \n",
        "                                            verbose=1, \n",
        "                                            factor=0.5, \n",
        "                                            min_lr=0.00001)"
      ],
      "execution_count": 0,
      "outputs": []
    },
    {
      "cell_type": "code",
      "metadata": {
        "id": "PfcNcLuBx3Ur",
        "colab_type": "code",
        "colab": {}
      },
      "source": [
        "epochs = 128"
      ],
      "execution_count": 0,
      "outputs": []
    },
    {
      "cell_type": "code",
      "metadata": {
        "id": "lANHAIySx3Uv",
        "colab_type": "code",
        "colab": {
          "base_uri": "https://localhost:8080/",
          "height": 1000
        },
        "outputId": "f7dd22df-2526-4cb7-c536-f5207524f68a"
      },
      "source": [
        "history = model.fit_generator(train, epochs=epochs, steps_per_epoch = 50, validation_data=val, verbose = 1, callbacks=[learning_rate_reduction])"
      ],
      "execution_count": 17,
      "outputs": [
        {
          "output_type": "stream",
          "text": [
            "Epoch 1/128\n",
            "50/50 [==============================] - 28s 558ms/step - loss: 1.5599 - accuracy: 0.4728 - val_loss: 3.3433 - val_accuracy: 0.1823\n",
            "Epoch 2/128\n",
            "50/50 [==============================] - 21s 412ms/step - loss: 1.0864 - accuracy: 0.5709 - val_loss: 4.5741 - val_accuracy: 0.2220\n",
            "Epoch 3/128\n",
            "50/50 [==============================] - 20s 401ms/step - loss: 0.9739 - accuracy: 0.6077 - val_loss: 4.7897 - val_accuracy: 0.2793\n",
            "Epoch 4/128\n",
            "50/50 [==============================] - 20s 397ms/step - loss: 0.9248 - accuracy: 0.6213 - val_loss: 3.2114 - val_accuracy: 0.3203\n",
            "Epoch 5/128\n",
            "50/50 [==============================] - 20s 396ms/step - loss: 0.8727 - accuracy: 0.6431 - val_loss: 3.0688 - val_accuracy: 0.2897\n",
            "Epoch 6/128\n",
            "50/50 [==============================] - 20s 396ms/step - loss: 0.8487 - accuracy: 0.6567 - val_loss: 4.8015 - val_accuracy: 0.2070\n",
            "Epoch 7/128\n",
            "50/50 [==============================] - 20s 398ms/step - loss: 0.8028 - accuracy: 0.6673 - val_loss: 1.7972 - val_accuracy: 0.5550\n",
            "Epoch 8/128\n",
            "50/50 [==============================] - 20s 396ms/step - loss: 0.7752 - accuracy: 0.6817 - val_loss: 1.7184 - val_accuracy: 0.4817\n",
            "Epoch 9/128\n",
            "50/50 [==============================] - 20s 395ms/step - loss: 0.7688 - accuracy: 0.6807 - val_loss: 1.0940 - val_accuracy: 0.7390\n",
            "Epoch 10/128\n",
            "50/50 [==============================] - 20s 400ms/step - loss: 0.7432 - accuracy: 0.6887 - val_loss: 0.8875 - val_accuracy: 0.6600\n",
            "Epoch 11/128\n",
            "50/50 [==============================] - 20s 406ms/step - loss: 0.7254 - accuracy: 0.6992 - val_loss: 0.8521 - val_accuracy: 0.7513\n",
            "Epoch 12/128\n",
            "50/50 [==============================] - 20s 400ms/step - loss: 0.7067 - accuracy: 0.7022 - val_loss: 0.4459 - val_accuracy: 0.8490\n",
            "Epoch 13/128\n",
            "50/50 [==============================] - 20s 405ms/step - loss: 0.6993 - accuracy: 0.7121 - val_loss: 0.5325 - val_accuracy: 0.7973\n",
            "Epoch 14/128\n",
            "50/50 [==============================] - 20s 399ms/step - loss: 0.6852 - accuracy: 0.7090 - val_loss: 1.0537 - val_accuracy: 0.6870\n",
            "Epoch 15/128\n",
            "50/50 [==============================] - 20s 400ms/step - loss: 0.6660 - accuracy: 0.7231 - val_loss: 0.7553 - val_accuracy: 0.8460\n",
            "\n",
            "Epoch 00015: ReduceLROnPlateau reducing learning rate to 0.0005000000237487257.\n",
            "Epoch 16/128\n",
            "50/50 [==============================] - 20s 402ms/step - loss: 0.6154 - accuracy: 0.7448 - val_loss: 0.4283 - val_accuracy: 0.8417\n",
            "Epoch 17/128\n",
            "50/50 [==============================] - 20s 406ms/step - loss: 0.5915 - accuracy: 0.7568 - val_loss: 0.2775 - val_accuracy: 0.8743\n",
            "Epoch 18/128\n",
            "50/50 [==============================] - 20s 402ms/step - loss: 0.5922 - accuracy: 0.7521 - val_loss: 0.8013 - val_accuracy: 0.7557\n",
            "Epoch 19/128\n",
            "50/50 [==============================] - 20s 404ms/step - loss: 0.5771 - accuracy: 0.7587 - val_loss: 0.3716 - val_accuracy: 0.8543\n",
            "Epoch 20/128\n",
            "50/50 [==============================] - 20s 400ms/step - loss: 0.5670 - accuracy: 0.7667 - val_loss: 0.2071 - val_accuracy: 0.8637\n",
            "\n",
            "Epoch 00020: ReduceLROnPlateau reducing learning rate to 0.0002500000118743628.\n",
            "Epoch 21/128\n",
            "50/50 [==============================] - 20s 404ms/step - loss: 0.5460 - accuracy: 0.7772 - val_loss: 0.3957 - val_accuracy: 0.8643\n",
            "Epoch 22/128\n",
            "50/50 [==============================] - 20s 395ms/step - loss: 0.5405 - accuracy: 0.7772 - val_loss: 0.3669 - val_accuracy: 0.8540\n",
            "Epoch 23/128\n",
            "50/50 [==============================] - 20s 402ms/step - loss: 0.5201 - accuracy: 0.7877 - val_loss: 0.3164 - val_accuracy: 0.8873\n",
            "Epoch 24/128\n",
            "50/50 [==============================] - 20s 406ms/step - loss: 0.5258 - accuracy: 0.7825 - val_loss: 0.2055 - val_accuracy: 0.8870\n",
            "Epoch 25/128\n",
            "50/50 [==============================] - 20s 398ms/step - loss: 0.5216 - accuracy: 0.7850 - val_loss: 0.4266 - val_accuracy: 0.8540\n",
            "Epoch 26/128\n",
            "50/50 [==============================] - 20s 403ms/step - loss: 0.5125 - accuracy: 0.7930 - val_loss: 0.4526 - val_accuracy: 0.8617\n",
            "\n",
            "Epoch 00026: ReduceLROnPlateau reducing learning rate to 0.0001250000059371814.\n",
            "Epoch 27/128\n",
            "50/50 [==============================] - 20s 402ms/step - loss: 0.5229 - accuracy: 0.7820 - val_loss: 0.2028 - val_accuracy: 0.8893\n",
            "Epoch 28/128\n",
            "50/50 [==============================] - 20s 398ms/step - loss: 0.4981 - accuracy: 0.7957 - val_loss: 0.2025 - val_accuracy: 0.8870\n",
            "Epoch 29/128\n",
            "50/50 [==============================] - 20s 397ms/step - loss: 0.4932 - accuracy: 0.7968 - val_loss: 0.2307 - val_accuracy: 0.8850\n",
            "Epoch 30/128\n",
            "50/50 [==============================] - 20s 401ms/step - loss: 0.5004 - accuracy: 0.7957 - val_loss: 0.1406 - val_accuracy: 0.8947\n",
            "Epoch 31/128\n",
            "50/50 [==============================] - 20s 402ms/step - loss: 0.4929 - accuracy: 0.7960 - val_loss: 0.3353 - val_accuracy: 0.8793\n",
            "Epoch 32/128\n",
            "50/50 [==============================] - 20s 403ms/step - loss: 0.4868 - accuracy: 0.7965 - val_loss: 0.2475 - val_accuracy: 0.8900\n",
            "Epoch 33/128\n",
            "50/50 [==============================] - 20s 401ms/step - loss: 0.4990 - accuracy: 0.7941 - val_loss: 0.3586 - val_accuracy: 0.8730\n",
            "\n",
            "Epoch 00033: ReduceLROnPlateau reducing learning rate to 6.25000029685907e-05.\n",
            "Epoch 34/128\n",
            "50/50 [==============================] - 20s 400ms/step - loss: 0.4885 - accuracy: 0.7977 - val_loss: 0.2787 - val_accuracy: 0.8903\n",
            "Epoch 35/128\n",
            "50/50 [==============================] - 21s 413ms/step - loss: 0.4864 - accuracy: 0.8009 - val_loss: 0.1976 - val_accuracy: 0.8923\n",
            "Epoch 36/128\n",
            "50/50 [==============================] - 20s 396ms/step - loss: 0.4786 - accuracy: 0.8034 - val_loss: 0.2447 - val_accuracy: 0.8830\n",
            "\n",
            "Epoch 00036: ReduceLROnPlateau reducing learning rate to 3.125000148429535e-05.\n",
            "Epoch 37/128\n",
            "50/50 [==============================] - 20s 399ms/step - loss: 0.4770 - accuracy: 0.8050 - val_loss: 0.3029 - val_accuracy: 0.8887\n",
            "Epoch 38/128\n",
            "50/50 [==============================] - 20s 397ms/step - loss: 0.4864 - accuracy: 0.7992 - val_loss: 0.4115 - val_accuracy: 0.8913\n",
            "Epoch 39/128\n",
            "50/50 [==============================] - 20s 402ms/step - loss: 0.4806 - accuracy: 0.8025 - val_loss: 0.1966 - val_accuracy: 0.8883\n",
            "\n",
            "Epoch 00039: ReduceLROnPlateau reducing learning rate to 1.5625000742147677e-05.\n",
            "Epoch 40/128\n",
            "50/50 [==============================] - 20s 396ms/step - loss: 0.4720 - accuracy: 0.8070 - val_loss: 0.3360 - val_accuracy: 0.8920\n",
            "Epoch 41/128\n",
            "50/50 [==============================] - 20s 396ms/step - loss: 0.4821 - accuracy: 0.8023 - val_loss: 0.3107 - val_accuracy: 0.8927\n",
            "Epoch 42/128\n",
            "50/50 [==============================] - 20s 400ms/step - loss: 0.4744 - accuracy: 0.8028 - val_loss: 0.2757 - val_accuracy: 0.8917\n",
            "\n",
            "Epoch 00042: ReduceLROnPlateau reducing learning rate to 1e-05.\n",
            "Epoch 43/128\n",
            "50/50 [==============================] - 20s 400ms/step - loss: 0.4830 - accuracy: 0.8017 - val_loss: 0.4311 - val_accuracy: 0.8893\n",
            "Epoch 44/128\n",
            "50/50 [==============================] - 20s 399ms/step - loss: 0.4817 - accuracy: 0.8008 - val_loss: 0.2440 - val_accuracy: 0.8917\n",
            "Epoch 45/128\n",
            "50/50 [==============================] - 20s 399ms/step - loss: 0.4762 - accuracy: 0.8043 - val_loss: 0.4562 - val_accuracy: 0.8933\n",
            "Epoch 46/128\n",
            "50/50 [==============================] - 20s 407ms/step - loss: 0.4696 - accuracy: 0.8087 - val_loss: 0.2306 - val_accuracy: 0.8927\n",
            "Epoch 47/128\n",
            "50/50 [==============================] - 20s 401ms/step - loss: 0.4763 - accuracy: 0.8022 - val_loss: 0.2556 - val_accuracy: 0.8933\n",
            "Epoch 48/128\n",
            "50/50 [==============================] - 20s 407ms/step - loss: 0.4861 - accuracy: 0.8001 - val_loss: 0.4075 - val_accuracy: 0.8927\n",
            "Epoch 49/128\n",
            "50/50 [==============================] - 20s 398ms/step - loss: 0.4796 - accuracy: 0.8020 - val_loss: 0.3193 - val_accuracy: 0.8897\n",
            "Epoch 50/128\n",
            "50/50 [==============================] - 20s 399ms/step - loss: 0.4702 - accuracy: 0.8069 - val_loss: 0.4708 - val_accuracy: 0.8913\n",
            "Epoch 51/128\n",
            "50/50 [==============================] - 20s 402ms/step - loss: 0.4642 - accuracy: 0.8078 - val_loss: 0.3637 - val_accuracy: 0.8910\n",
            "Epoch 52/128\n",
            "50/50 [==============================] - 20s 399ms/step - loss: 0.4618 - accuracy: 0.8109 - val_loss: 0.1150 - val_accuracy: 0.8907\n",
            "Epoch 53/128\n",
            "50/50 [==============================] - 20s 398ms/step - loss: 0.4786 - accuracy: 0.8036 - val_loss: 0.6700 - val_accuracy: 0.8923\n",
            "Epoch 54/128\n",
            "50/50 [==============================] - 20s 398ms/step - loss: 0.4735 - accuracy: 0.8042 - val_loss: 0.5534 - val_accuracy: 0.8927\n",
            "Epoch 55/128\n",
            "50/50 [==============================] - 20s 400ms/step - loss: 0.4747 - accuracy: 0.8048 - val_loss: 0.4855 - val_accuracy: 0.8893\n",
            "Epoch 56/128\n",
            "50/50 [==============================] - 20s 398ms/step - loss: 0.4663 - accuracy: 0.8079 - val_loss: 0.2369 - val_accuracy: 0.8913\n",
            "Epoch 57/128\n",
            "50/50 [==============================] - 20s 410ms/step - loss: 0.4709 - accuracy: 0.8052 - val_loss: 0.3984 - val_accuracy: 0.8930\n",
            "Epoch 58/128\n",
            "50/50 [==============================] - 20s 398ms/step - loss: 0.4712 - accuracy: 0.8048 - val_loss: 0.2211 - val_accuracy: 0.8910\n",
            "Epoch 59/128\n",
            "50/50 [==============================] - 20s 400ms/step - loss: 0.4650 - accuracy: 0.8037 - val_loss: 0.5575 - val_accuracy: 0.8930\n",
            "Epoch 60/128\n",
            "50/50 [==============================] - 20s 400ms/step - loss: 0.4653 - accuracy: 0.8065 - val_loss: 0.3485 - val_accuracy: 0.8920\n",
            "Epoch 61/128\n",
            "50/50 [==============================] - 20s 395ms/step - loss: 0.4655 - accuracy: 0.8071 - val_loss: 0.3145 - val_accuracy: 0.8930\n",
            "Epoch 62/128\n",
            "50/50 [==============================] - 20s 398ms/step - loss: 0.4647 - accuracy: 0.8096 - val_loss: 0.4690 - val_accuracy: 0.8887\n",
            "Epoch 63/128\n",
            "50/50 [==============================] - 20s 405ms/step - loss: 0.4680 - accuracy: 0.8074 - val_loss: 0.3450 - val_accuracy: 0.8910\n",
            "Epoch 64/128\n",
            "50/50 [==============================] - 20s 402ms/step - loss: 0.4749 - accuracy: 0.8037 - val_loss: 0.2920 - val_accuracy: 0.8903\n",
            "Epoch 65/128\n",
            "50/50 [==============================] - 20s 401ms/step - loss: 0.4654 - accuracy: 0.8111 - val_loss: 0.2590 - val_accuracy: 0.8930\n",
            "Epoch 66/128\n",
            "50/50 [==============================] - 20s 399ms/step - loss: 0.4681 - accuracy: 0.8056 - val_loss: 0.6672 - val_accuracy: 0.8920\n",
            "Epoch 67/128\n",
            "50/50 [==============================] - 20s 400ms/step - loss: 0.4829 - accuracy: 0.7997 - val_loss: 0.4644 - val_accuracy: 0.8923\n",
            "Epoch 68/128\n",
            "50/50 [==============================] - 20s 407ms/step - loss: 0.4672 - accuracy: 0.8059 - val_loss: 0.1717 - val_accuracy: 0.8913\n",
            "Epoch 69/128\n",
            "50/50 [==============================] - 20s 398ms/step - loss: 0.4599 - accuracy: 0.8125 - val_loss: 0.4624 - val_accuracy: 0.8917\n",
            "Epoch 70/128\n",
            "50/50 [==============================] - 20s 399ms/step - loss: 0.4718 - accuracy: 0.8091 - val_loss: 0.5549 - val_accuracy: 0.8920\n",
            "Epoch 71/128\n",
            "50/50 [==============================] - 20s 400ms/step - loss: 0.4635 - accuracy: 0.8105 - val_loss: 0.4907 - val_accuracy: 0.8923\n",
            "Epoch 72/128\n",
            "50/50 [==============================] - 20s 402ms/step - loss: 0.4752 - accuracy: 0.8030 - val_loss: 0.1935 - val_accuracy: 0.8913\n",
            "Epoch 73/128\n",
            "50/50 [==============================] - 20s 396ms/step - loss: 0.4610 - accuracy: 0.8096 - val_loss: 0.1376 - val_accuracy: 0.8897\n",
            "Epoch 74/128\n",
            "50/50 [==============================] - 20s 399ms/step - loss: 0.4652 - accuracy: 0.8104 - val_loss: 0.2832 - val_accuracy: 0.8927\n",
            "Epoch 75/128\n",
            "50/50 [==============================] - 20s 403ms/step - loss: 0.4598 - accuracy: 0.8062 - val_loss: 0.2145 - val_accuracy: 0.8900\n",
            "Epoch 76/128\n",
            "50/50 [==============================] - 20s 396ms/step - loss: 0.4665 - accuracy: 0.8098 - val_loss: 0.5054 - val_accuracy: 0.8913\n",
            "Epoch 77/128\n",
            "50/50 [==============================] - 20s 395ms/step - loss: 0.4648 - accuracy: 0.8107 - val_loss: 0.2456 - val_accuracy: 0.8923\n",
            "Epoch 78/128\n",
            "50/50 [==============================] - 20s 399ms/step - loss: 0.4792 - accuracy: 0.7991 - val_loss: 0.3886 - val_accuracy: 0.8870\n",
            "Epoch 79/128\n",
            "50/50 [==============================] - 21s 411ms/step - loss: 0.4636 - accuracy: 0.8091 - val_loss: 0.1461 - val_accuracy: 0.8927\n",
            "Epoch 80/128\n",
            "50/50 [==============================] - 20s 398ms/step - loss: 0.4605 - accuracy: 0.8123 - val_loss: 0.3870 - val_accuracy: 0.8913\n",
            "Epoch 81/128\n",
            "50/50 [==============================] - 20s 402ms/step - loss: 0.4621 - accuracy: 0.8123 - val_loss: 0.5861 - val_accuracy: 0.8907\n",
            "Epoch 82/128\n",
            "50/50 [==============================] - 20s 400ms/step - loss: 0.4739 - accuracy: 0.8028 - val_loss: 0.2787 - val_accuracy: 0.8920\n",
            "Epoch 83/128\n",
            "50/50 [==============================] - 20s 400ms/step - loss: 0.4565 - accuracy: 0.8137 - val_loss: 0.1608 - val_accuracy: 0.8907\n",
            "Epoch 84/128\n",
            "50/50 [==============================] - 20s 401ms/step - loss: 0.4716 - accuracy: 0.8076 - val_loss: 0.2852 - val_accuracy: 0.8913\n",
            "Epoch 85/128\n",
            "50/50 [==============================] - 20s 400ms/step - loss: 0.4600 - accuracy: 0.8123 - val_loss: 0.1872 - val_accuracy: 0.8903\n",
            "Epoch 86/128\n",
            "50/50 [==============================] - 20s 400ms/step - loss: 0.4733 - accuracy: 0.8037 - val_loss: 0.4144 - val_accuracy: 0.8890\n",
            "Epoch 87/128\n",
            "50/50 [==============================] - 20s 402ms/step - loss: 0.4710 - accuracy: 0.8068 - val_loss: 0.3918 - val_accuracy: 0.8913\n",
            "Epoch 88/128\n",
            "50/50 [==============================] - 20s 399ms/step - loss: 0.4617 - accuracy: 0.8103 - val_loss: 0.2664 - val_accuracy: 0.8903\n",
            "Epoch 89/128\n",
            "50/50 [==============================] - 20s 400ms/step - loss: 0.4632 - accuracy: 0.8090 - val_loss: 0.9493 - val_accuracy: 0.8920\n",
            "Epoch 90/128\n",
            "50/50 [==============================] - 20s 408ms/step - loss: 0.4784 - accuracy: 0.7976 - val_loss: 0.2588 - val_accuracy: 0.8913\n",
            "Epoch 91/128\n",
            "50/50 [==============================] - 20s 405ms/step - loss: 0.4615 - accuracy: 0.8100 - val_loss: 0.2619 - val_accuracy: 0.8883\n",
            "Epoch 92/128\n",
            "50/50 [==============================] - 20s 399ms/step - loss: 0.4750 - accuracy: 0.8006 - val_loss: 0.1643 - val_accuracy: 0.8913\n",
            "Epoch 93/128\n",
            "50/50 [==============================] - 20s 396ms/step - loss: 0.4593 - accuracy: 0.8120 - val_loss: 0.1858 - val_accuracy: 0.8913\n",
            "Epoch 94/128\n",
            "50/50 [==============================] - 20s 407ms/step - loss: 0.4863 - accuracy: 0.7987 - val_loss: 0.4139 - val_accuracy: 0.8913\n",
            "Epoch 95/128\n",
            "50/50 [==============================] - 20s 401ms/step - loss: 0.4651 - accuracy: 0.8066 - val_loss: 0.4165 - val_accuracy: 0.8943\n",
            "Epoch 96/128\n",
            "50/50 [==============================] - 20s 402ms/step - loss: 0.4783 - accuracy: 0.8056 - val_loss: 0.4374 - val_accuracy: 0.8943\n",
            "Epoch 97/128\n",
            "50/50 [==============================] - 20s 399ms/step - loss: 0.4764 - accuracy: 0.8037 - val_loss: 0.2630 - val_accuracy: 0.8920\n",
            "Epoch 98/128\n",
            "50/50 [==============================] - 20s 401ms/step - loss: 0.4615 - accuracy: 0.8052 - val_loss: 0.5584 - val_accuracy: 0.8913\n",
            "Epoch 99/128\n",
            "50/50 [==============================] - 20s 402ms/step - loss: 0.4705 - accuracy: 0.8058 - val_loss: 0.5219 - val_accuracy: 0.8910\n",
            "Epoch 100/128\n",
            "50/50 [==============================] - 20s 403ms/step - loss: 0.4755 - accuracy: 0.8041 - val_loss: 0.4994 - val_accuracy: 0.8927\n",
            "Epoch 101/128\n",
            "50/50 [==============================] - 20s 405ms/step - loss: 0.4625 - accuracy: 0.8135 - val_loss: 0.3978 - val_accuracy: 0.8923\n",
            "Epoch 102/128\n",
            "50/50 [==============================] - 20s 396ms/step - loss: 0.4605 - accuracy: 0.8092 - val_loss: 0.5668 - val_accuracy: 0.8897\n",
            "Epoch 103/128\n",
            "50/50 [==============================] - 20s 401ms/step - loss: 0.4554 - accuracy: 0.8155 - val_loss: 0.3574 - val_accuracy: 0.8900\n",
            "Epoch 104/128\n",
            "50/50 [==============================] - 20s 398ms/step - loss: 0.4633 - accuracy: 0.8086 - val_loss: 0.2767 - val_accuracy: 0.8917\n",
            "Epoch 105/128\n",
            "50/50 [==============================] - 20s 398ms/step - loss: 0.4644 - accuracy: 0.8103 - val_loss: 0.6201 - val_accuracy: 0.8927\n",
            "Epoch 106/128\n",
            "50/50 [==============================] - 20s 399ms/step - loss: 0.4641 - accuracy: 0.8074 - val_loss: 0.2883 - val_accuracy: 0.8937\n",
            "Epoch 107/128\n",
            "50/50 [==============================] - 20s 402ms/step - loss: 0.4559 - accuracy: 0.8113 - val_loss: 0.6255 - val_accuracy: 0.8947\n",
            "Epoch 108/128\n",
            "50/50 [==============================] - 20s 396ms/step - loss: 0.4556 - accuracy: 0.8136 - val_loss: 0.3013 - val_accuracy: 0.8917\n",
            "Epoch 109/128\n",
            "50/50 [==============================] - 20s 401ms/step - loss: 0.4678 - accuracy: 0.8076 - val_loss: 0.5436 - val_accuracy: 0.8883\n",
            "Epoch 110/128\n",
            "50/50 [==============================] - 20s 404ms/step - loss: 0.4679 - accuracy: 0.8024 - val_loss: 0.4538 - val_accuracy: 0.8917\n",
            "Epoch 111/128\n",
            "50/50 [==============================] - 20s 401ms/step - loss: 0.4530 - accuracy: 0.8138 - val_loss: 0.2633 - val_accuracy: 0.8923\n",
            "Epoch 112/128\n",
            "50/50 [==============================] - 20s 409ms/step - loss: 0.4649 - accuracy: 0.8067 - val_loss: 0.3559 - val_accuracy: 0.8873\n",
            "Epoch 113/128\n",
            "50/50 [==============================] - 20s 399ms/step - loss: 0.4624 - accuracy: 0.8101 - val_loss: 0.4150 - val_accuracy: 0.8863\n",
            "Epoch 114/128\n",
            "50/50 [==============================] - 20s 399ms/step - loss: 0.4763 - accuracy: 0.8037 - val_loss: 0.1686 - val_accuracy: 0.8913\n",
            "Epoch 115/128\n",
            "50/50 [==============================] - 20s 398ms/step - loss: 0.4635 - accuracy: 0.8119 - val_loss: 0.1183 - val_accuracy: 0.8903\n",
            "Epoch 116/128\n",
            "50/50 [==============================] - 20s 399ms/step - loss: 0.4726 - accuracy: 0.8037 - val_loss: 0.2748 - val_accuracy: 0.8930\n",
            "Epoch 117/128\n",
            "50/50 [==============================] - 20s 394ms/step - loss: 0.4713 - accuracy: 0.8035 - val_loss: 0.5162 - val_accuracy: 0.8927\n",
            "Epoch 118/128\n",
            "50/50 [==============================] - 20s 400ms/step - loss: 0.4564 - accuracy: 0.8140 - val_loss: 0.1266 - val_accuracy: 0.8917\n",
            "Epoch 119/128\n",
            "50/50 [==============================] - 20s 399ms/step - loss: 0.4648 - accuracy: 0.8087 - val_loss: 0.3115 - val_accuracy: 0.8910\n",
            "Epoch 120/128\n",
            "50/50 [==============================] - 20s 398ms/step - loss: 0.4720 - accuracy: 0.8033 - val_loss: 0.3921 - val_accuracy: 0.8927\n",
            "Epoch 121/128\n",
            "50/50 [==============================] - 20s 400ms/step - loss: 0.4540 - accuracy: 0.8144 - val_loss: 0.4873 - val_accuracy: 0.8933\n",
            "Epoch 122/128\n",
            "50/50 [==============================] - 20s 398ms/step - loss: 0.4525 - accuracy: 0.8121 - val_loss: 0.5380 - val_accuracy: 0.8917\n",
            "Epoch 123/128\n",
            "50/50 [==============================] - 20s 406ms/step - loss: 0.4574 - accuracy: 0.8110 - val_loss: 0.3719 - val_accuracy: 0.8920\n",
            "Epoch 124/128\n",
            "50/50 [==============================] - 20s 399ms/step - loss: 0.4513 - accuracy: 0.8152 - val_loss: 0.3859 - val_accuracy: 0.8947\n",
            "Epoch 125/128\n",
            "50/50 [==============================] - 20s 400ms/step - loss: 0.4689 - accuracy: 0.8057 - val_loss: 0.4759 - val_accuracy: 0.8917\n",
            "Epoch 126/128\n",
            "50/50 [==============================] - 20s 405ms/step - loss: 0.4621 - accuracy: 0.8095 - val_loss: 0.3097 - val_accuracy: 0.8907\n",
            "Epoch 127/128\n",
            "50/50 [==============================] - 20s 400ms/step - loss: 0.4490 - accuracy: 0.8166 - val_loss: 0.6186 - val_accuracy: 0.8920\n",
            "Epoch 128/128\n",
            "50/50 [==============================] - 20s 399ms/step - loss: 0.4703 - accuracy: 0.8055 - val_loss: 0.1722 - val_accuracy: 0.8933\n"
          ],
          "name": "stdout"
        }
      ]
    },
    {
      "cell_type": "code",
      "metadata": {
        "id": "yHevkkn1x3Uz",
        "colab_type": "code",
        "colab": {}
      },
      "source": [
        "import matplotlib.pyplot as plt\n",
        "%matplotlib inline\n",
        "from matplotlib import rcParams"
      ],
      "execution_count": 0,
      "outputs": []
    },
    {
      "cell_type": "code",
      "metadata": {
        "id": "6MHQcqShx3U1",
        "colab_type": "code",
        "colab": {
          "base_uri": "https://localhost:8080/",
          "height": 377
        },
        "outputId": "9dfa0a94-b7aa-4195-83fe-d8b2db4143d4"
      },
      "source": [
        "fig, ax = plt.subplots(2,1, figsize=(8, 6))\n",
        "ax[0].plot(history.history['loss'], color='b', label=\"Training loss\")\n",
        "ax[0].plot(history.history['val_loss'], color='r', label=\"validation loss\",axes =ax[0])\n",
        "legend = ax[0].legend(loc='best', shadow=True)\n",
        "\n",
        "ax[1].plot(history.history['accuracy'], color='b', label=\"Training accuracy\")\n",
        "ax[1].plot(history.history['val_accuracy'], color='r',label=\"Validation accuracy\")\n",
        "legend = ax[1].legend(loc='best', shadow=True)"
      ],
      "execution_count": 19,
      "outputs": [
        {
          "output_type": "display_data",
          "data": {
            "image/png": "[encoded data removed]",
            "text/plain": [
              "<Figure size 576x432 with 2 Axes>"
            ]
          },
          "metadata": {
            "tags": [],
            "needs_background": "light"
          }
        }
      ]
    },
    {
      "cell_type": "code",
      "metadata": {
        "id": "rb1fEHCnx3U4",
        "colab_type": "code",
        "colab": {}
      },
      "source": [
        ""
      ],
      "execution_count": 0,
      "outputs": []
    }
  ]
}